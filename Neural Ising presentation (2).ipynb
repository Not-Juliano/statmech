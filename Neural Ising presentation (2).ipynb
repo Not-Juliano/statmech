{
 "cells": [
  {
   "cell_type": "code",
   "execution_count": 121,
   "metadata": {},
   "outputs": [],
   "source": [
    "#Ising Applied to simple cases of Neural Networks- Juliano E."
   ]
  },
  {
   "cell_type": "code",
   "execution_count": null,
   "metadata": {},
   "outputs": [],
   "source": [
    "#pip install Pillow\n",
    "#pip install ipywidgets"
   ]
  },
  {
   "cell_type": "code",
   "execution_count": 52,
   "metadata": {},
   "outputs": [],
   "source": [
    "import numpy as np\n",
    "import random\n",
    "from math import exp, log, e, sqrt\n",
    "from ipywidgets import interact\n",
    "from PIL import Image\n",
    "import matplotlib.pyplot as plt\n",
    "\n",
    "\n",
    "N=200 #Length of the system\n",
    "\n",
    "\n",
    "M=N #Grid is even..\n",
    "\n",
    "\n",
    "A=N**2#this relates to the number of particles in the system\n",
    "\n",
    "#FOR RELATION TO PRESENTATION USE J=1. NOT J=1/N.\n",
    "\n",
    "J=1 \n",
    "\n",
    "\n",
    "\n",
    "kT=22     #0.00053 Crit, 0.0004 Cold\n",
    "h=0\n",
    "Mag=[]\n",
    "Energy=[]\n",
    "\n"
   ]
  },
  {
   "cell_type": "code",
   "execution_count": 53,
   "metadata": {},
   "outputs": [],
   "source": [
    "# ================= create the random spin grid========================\n",
    "\n",
    "# Each spin has two possible states +1 or −1.\n",
    "\n",
    "\n",
    "\n",
    "def Initial_Lattice(N,M):\n",
    "    Spinvalues=[-1,1]\n",
    "    return np.random.choice(Spinvalues, size=(N, M))\n",
    "\n",
    "\n",
    "\n",
    "\n",
    "#Here we save it so we can do some calculations from the starting point.\n",
    "\n",
    "Grid=Initial_Lattice(N,M)"
   ]
  },
  {
   "cell_type": "code",
   "execution_count": 54,
   "metadata": {},
   "outputs": [],
   "source": [
    "#=========Calculates Magnetization of the grid based on the formula  ΣSi======\n",
    "\n",
    "def magnetization(Lattice):\n",
    "    m = 0.0  \n",
    "    for j in range(0,N):\n",
    "        for k in range(0,M):  \n",
    "            m += J*Lattice[j,k]\n",
    "  \n",
    "    return m"
   ]
  },
  {
   "cell_type": "code",
   "execution_count": 55,
   "metadata": {},
   "outputs": [
    {
     "data": {
      "text/plain": [
       "60.0"
      ]
     },
     "execution_count": 55,
     "metadata": {},
     "output_type": "execute_result"
    }
   ],
   "source": [
    "#E=-1/2 Σ Jij, Si, Sj - Σ Hi, Si\n",
    "\n",
    "\n",
    "def Energy_Of_The_System(Lattice):\n",
    "    E=0.0\n",
    "  \n",
    "    \n",
    "    for i in range(0,N):\n",
    "        for j in range(0,M):\n",
    "            \n",
    "            \n",
    "            \n",
    "            Spin= Lattice[i, j] \n",
    "            \n",
    "    \n",
    "            SumOfNeighbors= (Lattice[(i+1)%N, (j)]#Right\n",
    "                     + Lattice[(i-1)%N, (j)]#left\n",
    "                     + Lattice[(i) , (j+1)%M]#Up\n",
    "                     + Lattice[(i) , (j-1)%M])#Down\n",
    "                     \n",
    "    \n",
    "            E+=(0.5*J*Spin*SumOfNeighbors)- (h*Spin)\n",
    "        \n",
    "    #print('The total energy of the system is', E)\n",
    "    return E\n",
    "Energy_Of_The_System(Grid)"
   ]
  },
  {
   "cell_type": "code",
   "execution_count": 56,
   "metadata": {},
   "outputs": [],
   "source": [
    "#===============P(σ)=exp[−∑h*σ − 1/2 ∑i,jJijσiσj]\n",
    "\n",
    "#\n",
    "\n",
    "\n",
    "def EnergyCalc(Lattice, i, j):\n",
    "    \n",
    "\n",
    "    \n",
    "    N, M = Lattice.shape\n",
    "    \n",
    "    \n",
    "    Spin= Lattice[i, j] \n",
    "#==============The following is written explicitly for two reasons.\n",
    "#1) I can keep track.\n",
    "#2) I can add or remove interactions for a custom experience.\n",
    "#=======================NN=========\n",
    "    SumOfNeighbors= (Lattice[(i+1)%N, (j)]#Right\n",
    "                     + Lattice[(i-1)%N, (j)]#left\n",
    "                     + Lattice[(i) , (j+1)%M]#Up\n",
    "                     + Lattice[(i) , (j-1)%M]#Down\n",
    "                     \n",
    "                     \n",
    "                     #diags                     \n",
    "                     + Lattice[(i-1)%N , (j-1)%M]\n",
    "                     + Lattice[(i+1)%N , (j+1)%M]\n",
    "                     + Lattice[(i+1)%N , (j-1)%M]\n",
    "                     + Lattice[(i-1)%N , (j+1)%M]\n",
    "#==================================n-NN=========================\n",
    "                     #poles\n",
    "                     + Lattice[(i+2)%N, (j)]\n",
    "                     + Lattice[(i-2)%N, (j)]\n",
    "                     + Lattice[(i) , (j+2)%M]\n",
    "                     + Lattice[(i) , (j-2)%M]\n",
    "                     #sides\n",
    "                     + Lattice[(i-1)%N , (j+2)%M]\n",
    "                     + Lattice[(i-1)%N , (j-2)%M]\n",
    "                     + Lattice[(i+1)%N , (j+2)%M]\n",
    "                     + Lattice[(i+1)%N , (j-2)%M]\n",
    "                     \n",
    "                     #sides\n",
    "                     + Lattice[(i-2)%N , (j+1)%M]\n",
    "                     + Lattice[(i-2)%N , (j-1)%M]\n",
    "                     + Lattice[(i+2)%N , (j+1)%M]\n",
    "                     + Lattice[(i+2)%N , (j-1)%M]\n",
    "                        #diags\n",
    "                     + Lattice[(i+2)%N , (j+2)%M]\n",
    "                     + Lattice[(i-2)%N , (j-2)%M]\n",
    "                     + Lattice[(i+2)%N , (j-2)%M]\n",
    "                     + Lattice[(i-2)%N , (j+2)%M]\n",
    "                     \n",
    "                     \n",
    "                     \n",
    "#=================================nn-NN===============================\n",
    "                     #poles\n",
    "                     + Lattice[(i+3)%N, (j)]\n",
    "                     + Lattice[(i-3)%N, (j)]\n",
    "                     + Lattice[(i) , (j+3)%M]\n",
    "                     + Lattice[(i) , (j-3)%M]\n",
    "                    \n",
    "                     \n",
    "                     #sides  \n",
    "                     + Lattice[(i-1)%N , (j+3)%M]\n",
    "                     + Lattice[(i-1)%N , (j-3)%M]\n",
    "                     + Lattice[(i+1)%N , (j+3)%M]\n",
    "                     + Lattice[(i+1)%N , (j-3)%M]\n",
    "                     \n",
    "                     + Lattice[(i-2)%N , (j+3)%M]\n",
    "                     + Lattice[(i-2)%N , (j-3)%M]\n",
    "                     + Lattice[(i+2)%N , (j+3)%M]\n",
    "                     + Lattice[(i+2)%N , (j-3)%M]\n",
    "                     \n",
    "                     #sides\n",
    "                     + Lattice[(i-3)%N , (j+2)%M]\n",
    "                     + Lattice[(i-3)%N , (j-2)%M]\n",
    "                     + Lattice[(i+3)%N , (j+2)%M]\n",
    "                     + Lattice[(i+3)%N , (j-2)%M]\n",
    "                     \n",
    "                     + Lattice[(i-3)%N , (j+2)%M]\n",
    "                     + Lattice[(i-3)%N , (j-2)%M]\n",
    "                     + Lattice[(i+3)%N , (j+2)%M]\n",
    "                     + Lattice[(i+3)%N , (j-2)%M]\n",
    "                    \n",
    "                     \n",
    "                     \n",
    "                     #diags\n",
    "                     + Lattice[(i+3)%N , (j+3)%M]\n",
    "                     + Lattice[(i-3)%N , (j-3)%M]\n",
    "                     + Lattice[(i+3)%N , (j-3)%M]\n",
    "                     + Lattice[(i-3)%N , (j+3)%M])\n",
    "  \n",
    "            \n",
    "    dE = (0.5*2*J)*((Spin*SumOfNeighbors) - (h*Spin))\n",
    "                   \n",
    "                   \n",
    "    if dE <= 0 or exp(-dE/kT) > np.random.random():\n",
    "        Lattice[i, j] *= -1"
   ]
  },
  {
   "cell_type": "code",
   "execution_count": 57,
   "metadata": {},
   "outputs": [],
   "source": [
    "#=================================== Movement through the lattice ==============\n",
    "#This is the simplest case, but experimenting with other iterations over the grid can lead to changed results.\n",
    "\n",
    "#I've found going randomly across the lattice caused the grid to continue to be random. \n",
    "#there might be a proper way to do this, but I've not found it.\n",
    "\n",
    "#The coordinates of this movement type for a 3x3 Lattice is commented in the cell below if interested. \n",
    "\n",
    "\n",
    "def Movement(Lattice):\n",
    "    N, M = Lattice.shape\n",
    "\n",
    "    for i in range(N):\n",
    "        for j in range(M): \n",
    "            EnergyCalc(Lattice, i, j)\n",
    "            \n",
    "#=========== Calls and saves values for measurements while the grid is being updated============            \n",
    "            \n",
    "    Mag.append(magnetization(Lattice))\n",
    "    Energy.append(Energy_Of_The_System(Lattice))\n",
    "    return Lattice"
   ]
  },
  {
   "cell_type": "code",
   "execution_count": 58,
   "metadata": {},
   "outputs": [],
   "source": [
    "#X_Coordinates=[0, 1, 2, 0, 1, 2, 0, 1, 2]\n",
    "#Y_Coordinates=[0, 0, 0, 1, 1, 1, 2, 2, 2]"
   ]
  },
  {
   "cell_type": "code",
   "execution_count": 59,
   "metadata": {},
   "outputs": [],
   "source": [
    "#----------------------Visualize the Grid-------------------------------Thanks to https://jakevdp.github.io/blog/2017/12/11/live-coding-cython-ising-model/ for the visualization tutorial\n",
    "def Visualize(Lattice):\n",
    "    return Image.fromarray(np.uint8((Lattice + 1) * 0.5 * 255))  # 0 ... 255\n"
   ]
  },
  {
   "cell_type": "code",
   "execution_count": 60,
   "metadata": {
    "scrolled": true
   },
   "outputs": [
    {
     "data": {
      "application/vnd.jupyter.widget-view+json": {
       "model_id": "d44f772aca3548139eeb58da3a78fe12",
       "version_major": 2,
       "version_minor": 0
      },
      "text/plain": [
       "interactive(children=(IntSlider(value=25, description='frame', max=50), Output()), _dom_classes=('widget-inter…"
      ]
     },
     "metadata": {},
     "output_type": "display_data"
    }
   ],
   "source": [
    "N_Frames=50 #Number of frames NOTE: ANYTHING OVER 50 TAKES SOME TIME RUN.\n",
    "\n",
    "from ipywidgets import interact\n",
    "\n",
    "def Evolution(images):\n",
    "    \n",
    "    \n",
    "    def show(frame=(0, len(images)-1)):\n",
    "        \n",
    "        \n",
    "        return Visualize(images[frame])\n",
    "    \n",
    "    \n",
    "    return interact(show)\n",
    "\n",
    "\n",
    "\n",
    "\n",
    "\n",
    "images = [Grid]\n",
    "\n",
    "\n",
    "for i in range(N_Frames):\n",
    "    \n",
    "    images.append(Movement(images[-1].copy()))\n",
    "    \n",
    "Evolution(images);"
   ]
  },
  {
   "cell_type": "code",
   "execution_count": 61,
   "metadata": {},
   "outputs": [
    {
     "data": {
      "application/vnd.plotly.v1+json": {
       "config": {
        "plotlyServerURL": "https://plot.ly"
       },
       "data": [
        {
         "marker": {
          "color": "red"
         },
         "mode": "lines",
         "name": "Energy points(J)",
         "type": "scatter",
         "xaxis": "x",
         "y": [
          4740,
          6876,
          8496,
          9680,
          10308,
          10224,
          9744,
          11100,
          9876,
          10104,
          10304,
          11220,
          10792,
          10544,
          8976,
          9668,
          9972,
          10228,
          10104,
          9980,
          10380,
          9572,
          9732,
          10456,
          9648,
          10588,
          10716,
          11372,
          11504,
          10860,
          11004,
          11536,
          10620,
          10996,
          10880,
          10892,
          10376,
          10296,
          10584,
          9988,
          10968,
          10996,
          10452,
          10548,
          10276,
          11040,
          11052,
          11220,
          12084,
          11020
         ],
         "yaxis": "y"
        },
        {
         "marker": {
          "color": "orchid"
         },
         "mode": "lines",
         "name": "Magnetization(T)",
         "type": "scatter",
         "xaxis": "x",
         "y": [
          -406,
          -2142,
          -280,
          624,
          444,
          462,
          844,
          848,
          996,
          1630,
          1016,
          268,
          -202,
          458,
          -1060,
          -132,
          -392,
          -314,
          -1022,
          -1656,
          -574,
          -1462,
          -1808,
          -1696,
          -1964,
          -1926,
          -1792,
          -2270,
          -1546,
          -530,
          -950,
          14,
          -52,
          -732,
          106,
          524,
          1440,
          1378,
          1212,
          1758,
          1018,
          1304,
          1474,
          408,
          1222,
          1200,
          868,
          586,
          1258,
          246
         ],
         "yaxis": "y"
        },
        {
         "cells": {
          "align": "left",
          "fill": {
           "color": "lightcyan"
          },
          "line": {
           "color": "darkslategray"
          },
          "values": [
           [
            0,
            1,
            2,
            3,
            4,
            5,
            6,
            7,
            8,
            9,
            10,
            11,
            12,
            13,
            14,
            15,
            16,
            17,
            18,
            19,
            20,
            21,
            22,
            23,
            24,
            25,
            26,
            27,
            28,
            29,
            30,
            31,
            32,
            33,
            34,
            35,
            36,
            37,
            38,
            39,
            40,
            41,
            42,
            43,
            44,
            45,
            46,
            47,
            48,
            49
           ],
           [
            4740,
            6876,
            8496,
            9680,
            10308,
            10224,
            9744,
            11100,
            9876,
            10104,
            10304,
            11220,
            10792,
            10544,
            8976,
            9668,
            9972,
            10228,
            10104,
            9980,
            10380,
            9572,
            9732,
            10456,
            9648,
            10588,
            10716,
            11372,
            11504,
            10860,
            11004,
            11536,
            10620,
            10996,
            10880,
            10892,
            10376,
            10296,
            10584,
            9988,
            10968,
            10996,
            10452,
            10548,
            10276,
            11040,
            11052,
            11220,
            12084,
            11020
           ],
           [
            -406,
            -2142,
            -280,
            624,
            444,
            462,
            844,
            848,
            996,
            1630,
            1016,
            268,
            -202,
            458,
            -1060,
            -132,
            -392,
            -314,
            -1022,
            -1656,
            -574,
            -1462,
            -1808,
            -1696,
            -1964,
            -1926,
            -1792,
            -2270,
            -1546,
            -530,
            -950,
            14,
            -52,
            -732,
            106,
            524,
            1440,
            1378,
            1212,
            1758,
            1018,
            1304,
            1474,
            408,
            1222,
            1200,
            868,
            586,
            1258,
            246
           ]
          ]
         },
         "domain": {
          "x": [
           0.55,
           1
          ],
          "y": [
           0,
           1
          ]
         },
         "header": {
          "align": "left",
          "fill": {
           "color": "lightskyblue"
          },
          "line": {
           "color": "darkslategray"
          },
          "values": [
           "Frame #",
           "Energies",
           "Magnetizations"
          ]
         },
         "type": "table"
        }
       ],
       "layout": {
        "height": 500,
        "showlegend": true,
        "template": {
         "data": {
          "bar": [
           {
            "error_x": {
             "color": "#2a3f5f"
            },
            "error_y": {
             "color": "#2a3f5f"
            },
            "marker": {
             "line": {
              "color": "#E5ECF6",
              "width": 0.5
             }
            },
            "type": "bar"
           }
          ],
          "barpolar": [
           {
            "marker": {
             "line": {
              "color": "#E5ECF6",
              "width": 0.5
             }
            },
            "type": "barpolar"
           }
          ],
          "carpet": [
           {
            "aaxis": {
             "endlinecolor": "#2a3f5f",
             "gridcolor": "white",
             "linecolor": "white",
             "minorgridcolor": "white",
             "startlinecolor": "#2a3f5f"
            },
            "baxis": {
             "endlinecolor": "#2a3f5f",
             "gridcolor": "white",
             "linecolor": "white",
             "minorgridcolor": "white",
             "startlinecolor": "#2a3f5f"
            },
            "type": "carpet"
           }
          ],
          "choropleth": [
           {
            "colorbar": {
             "outlinewidth": 0,
             "ticks": ""
            },
            "type": "choropleth"
           }
          ],
          "contour": [
           {
            "colorbar": {
             "outlinewidth": 0,
             "ticks": ""
            },
            "colorscale": [
             [
              0,
              "#0d0887"
             ],
             [
              0.1111111111111111,
              "#46039f"
             ],
             [
              0.2222222222222222,
              "#7201a8"
             ],
             [
              0.3333333333333333,
              "#9c179e"
             ],
             [
              0.4444444444444444,
              "#bd3786"
             ],
             [
              0.5555555555555556,
              "#d8576b"
             ],
             [
              0.6666666666666666,
              "#ed7953"
             ],
             [
              0.7777777777777778,
              "#fb9f3a"
             ],
             [
              0.8888888888888888,
              "#fdca26"
             ],
             [
              1,
              "#f0f921"
             ]
            ],
            "type": "contour"
           }
          ],
          "contourcarpet": [
           {
            "colorbar": {
             "outlinewidth": 0,
             "ticks": ""
            },
            "type": "contourcarpet"
           }
          ],
          "heatmap": [
           {
            "colorbar": {
             "outlinewidth": 0,
             "ticks": ""
            },
            "colorscale": [
             [
              0,
              "#0d0887"
             ],
             [
              0.1111111111111111,
              "#46039f"
             ],
             [
              0.2222222222222222,
              "#7201a8"
             ],
             [
              0.3333333333333333,
              "#9c179e"
             ],
             [
              0.4444444444444444,
              "#bd3786"
             ],
             [
              0.5555555555555556,
              "#d8576b"
             ],
             [
              0.6666666666666666,
              "#ed7953"
             ],
             [
              0.7777777777777778,
              "#fb9f3a"
             ],
             [
              0.8888888888888888,
              "#fdca26"
             ],
             [
              1,
              "#f0f921"
             ]
            ],
            "type": "heatmap"
           }
          ],
          "heatmapgl": [
           {
            "colorbar": {
             "outlinewidth": 0,
             "ticks": ""
            },
            "colorscale": [
             [
              0,
              "#0d0887"
             ],
             [
              0.1111111111111111,
              "#46039f"
             ],
             [
              0.2222222222222222,
              "#7201a8"
             ],
             [
              0.3333333333333333,
              "#9c179e"
             ],
             [
              0.4444444444444444,
              "#bd3786"
             ],
             [
              0.5555555555555556,
              "#d8576b"
             ],
             [
              0.6666666666666666,
              "#ed7953"
             ],
             [
              0.7777777777777778,
              "#fb9f3a"
             ],
             [
              0.8888888888888888,
              "#fdca26"
             ],
             [
              1,
              "#f0f921"
             ]
            ],
            "type": "heatmapgl"
           }
          ],
          "histogram": [
           {
            "marker": {
             "colorbar": {
              "outlinewidth": 0,
              "ticks": ""
             }
            },
            "type": "histogram"
           }
          ],
          "histogram2d": [
           {
            "colorbar": {
             "outlinewidth": 0,
             "ticks": ""
            },
            "colorscale": [
             [
              0,
              "#0d0887"
             ],
             [
              0.1111111111111111,
              "#46039f"
             ],
             [
              0.2222222222222222,
              "#7201a8"
             ],
             [
              0.3333333333333333,
              "#9c179e"
             ],
             [
              0.4444444444444444,
              "#bd3786"
             ],
             [
              0.5555555555555556,
              "#d8576b"
             ],
             [
              0.6666666666666666,
              "#ed7953"
             ],
             [
              0.7777777777777778,
              "#fb9f3a"
             ],
             [
              0.8888888888888888,
              "#fdca26"
             ],
             [
              1,
              "#f0f921"
             ]
            ],
            "type": "histogram2d"
           }
          ],
          "histogram2dcontour": [
           {
            "colorbar": {
             "outlinewidth": 0,
             "ticks": ""
            },
            "colorscale": [
             [
              0,
              "#0d0887"
             ],
             [
              0.1111111111111111,
              "#46039f"
             ],
             [
              0.2222222222222222,
              "#7201a8"
             ],
             [
              0.3333333333333333,
              "#9c179e"
             ],
             [
              0.4444444444444444,
              "#bd3786"
             ],
             [
              0.5555555555555556,
              "#d8576b"
             ],
             [
              0.6666666666666666,
              "#ed7953"
             ],
             [
              0.7777777777777778,
              "#fb9f3a"
             ],
             [
              0.8888888888888888,
              "#fdca26"
             ],
             [
              1,
              "#f0f921"
             ]
            ],
            "type": "histogram2dcontour"
           }
          ],
          "mesh3d": [
           {
            "colorbar": {
             "outlinewidth": 0,
             "ticks": ""
            },
            "type": "mesh3d"
           }
          ],
          "parcoords": [
           {
            "line": {
             "colorbar": {
              "outlinewidth": 0,
              "ticks": ""
             }
            },
            "type": "parcoords"
           }
          ],
          "pie": [
           {
            "automargin": true,
            "type": "pie"
           }
          ],
          "scatter": [
           {
            "marker": {
             "colorbar": {
              "outlinewidth": 0,
              "ticks": ""
             }
            },
            "type": "scatter"
           }
          ],
          "scatter3d": [
           {
            "line": {
             "colorbar": {
              "outlinewidth": 0,
              "ticks": ""
             }
            },
            "marker": {
             "colorbar": {
              "outlinewidth": 0,
              "ticks": ""
             }
            },
            "type": "scatter3d"
           }
          ],
          "scattercarpet": [
           {
            "marker": {
             "colorbar": {
              "outlinewidth": 0,
              "ticks": ""
             }
            },
            "type": "scattercarpet"
           }
          ],
          "scattergeo": [
           {
            "marker": {
             "colorbar": {
              "outlinewidth": 0,
              "ticks": ""
             }
            },
            "type": "scattergeo"
           }
          ],
          "scattergl": [
           {
            "marker": {
             "colorbar": {
              "outlinewidth": 0,
              "ticks": ""
             }
            },
            "type": "scattergl"
           }
          ],
          "scattermapbox": [
           {
            "marker": {
             "colorbar": {
              "outlinewidth": 0,
              "ticks": ""
             }
            },
            "type": "scattermapbox"
           }
          ],
          "scatterpolar": [
           {
            "marker": {
             "colorbar": {
              "outlinewidth": 0,
              "ticks": ""
             }
            },
            "type": "scatterpolar"
           }
          ],
          "scatterpolargl": [
           {
            "marker": {
             "colorbar": {
              "outlinewidth": 0,
              "ticks": ""
             }
            },
            "type": "scatterpolargl"
           }
          ],
          "scatterternary": [
           {
            "marker": {
             "colorbar": {
              "outlinewidth": 0,
              "ticks": ""
             }
            },
            "type": "scatterternary"
           }
          ],
          "surface": [
           {
            "colorbar": {
             "outlinewidth": 0,
             "ticks": ""
            },
            "colorscale": [
             [
              0,
              "#0d0887"
             ],
             [
              0.1111111111111111,
              "#46039f"
             ],
             [
              0.2222222222222222,
              "#7201a8"
             ],
             [
              0.3333333333333333,
              "#9c179e"
             ],
             [
              0.4444444444444444,
              "#bd3786"
             ],
             [
              0.5555555555555556,
              "#d8576b"
             ],
             [
              0.6666666666666666,
              "#ed7953"
             ],
             [
              0.7777777777777778,
              "#fb9f3a"
             ],
             [
              0.8888888888888888,
              "#fdca26"
             ],
             [
              1,
              "#f0f921"
             ]
            ],
            "type": "surface"
           }
          ],
          "table": [
           {
            "cells": {
             "fill": {
              "color": "#EBF0F8"
             },
             "line": {
              "color": "white"
             }
            },
            "header": {
             "fill": {
              "color": "#C8D4E3"
             },
             "line": {
              "color": "white"
             }
            },
            "type": "table"
           }
          ]
         },
         "layout": {
          "annotationdefaults": {
           "arrowcolor": "#2a3f5f",
           "arrowhead": 0,
           "arrowwidth": 1
          },
          "coloraxis": {
           "colorbar": {
            "outlinewidth": 0,
            "ticks": ""
           }
          },
          "colorscale": {
           "diverging": [
            [
             0,
             "#8e0152"
            ],
            [
             0.1,
             "#c51b7d"
            ],
            [
             0.2,
             "#de77ae"
            ],
            [
             0.3,
             "#f1b6da"
            ],
            [
             0.4,
             "#fde0ef"
            ],
            [
             0.5,
             "#f7f7f7"
            ],
            [
             0.6,
             "#e6f5d0"
            ],
            [
             0.7,
             "#b8e186"
            ],
            [
             0.8,
             "#7fbc41"
            ],
            [
             0.9,
             "#4d9221"
            ],
            [
             1,
             "#276419"
            ]
           ],
           "sequential": [
            [
             0,
             "#0d0887"
            ],
            [
             0.1111111111111111,
             "#46039f"
            ],
            [
             0.2222222222222222,
             "#7201a8"
            ],
            [
             0.3333333333333333,
             "#9c179e"
            ],
            [
             0.4444444444444444,
             "#bd3786"
            ],
            [
             0.5555555555555556,
             "#d8576b"
            ],
            [
             0.6666666666666666,
             "#ed7953"
            ],
            [
             0.7777777777777778,
             "#fb9f3a"
            ],
            [
             0.8888888888888888,
             "#fdca26"
            ],
            [
             1,
             "#f0f921"
            ]
           ],
           "sequentialminus": [
            [
             0,
             "#0d0887"
            ],
            [
             0.1111111111111111,
             "#46039f"
            ],
            [
             0.2222222222222222,
             "#7201a8"
            ],
            [
             0.3333333333333333,
             "#9c179e"
            ],
            [
             0.4444444444444444,
             "#bd3786"
            ],
            [
             0.5555555555555556,
             "#d8576b"
            ],
            [
             0.6666666666666666,
             "#ed7953"
            ],
            [
             0.7777777777777778,
             "#fb9f3a"
            ],
            [
             0.8888888888888888,
             "#fdca26"
            ],
            [
             1,
             "#f0f921"
            ]
           ]
          },
          "colorway": [
           "#636efa",
           "#EF553B",
           "#00cc96",
           "#ab63fa",
           "#FFA15A",
           "#19d3f3",
           "#FF6692",
           "#B6E880",
           "#FF97FF",
           "#FECB52"
          ],
          "font": {
           "color": "#2a3f5f"
          },
          "geo": {
           "bgcolor": "white",
           "lakecolor": "white",
           "landcolor": "#E5ECF6",
           "showlakes": true,
           "showland": true,
           "subunitcolor": "white"
          },
          "hoverlabel": {
           "align": "left"
          },
          "hovermode": "closest",
          "mapbox": {
           "style": "light"
          },
          "paper_bgcolor": "white",
          "plot_bgcolor": "#E5ECF6",
          "polar": {
           "angularaxis": {
            "gridcolor": "white",
            "linecolor": "white",
            "ticks": ""
           },
           "bgcolor": "#E5ECF6",
           "radialaxis": {
            "gridcolor": "white",
            "linecolor": "white",
            "ticks": ""
           }
          },
          "scene": {
           "xaxis": {
            "backgroundcolor": "#E5ECF6",
            "gridcolor": "white",
            "gridwidth": 2,
            "linecolor": "white",
            "showbackground": true,
            "ticks": "",
            "zerolinecolor": "white"
           },
           "yaxis": {
            "backgroundcolor": "#E5ECF6",
            "gridcolor": "white",
            "gridwidth": 2,
            "linecolor": "white",
            "showbackground": true,
            "ticks": "",
            "zerolinecolor": "white"
           },
           "zaxis": {
            "backgroundcolor": "#E5ECF6",
            "gridcolor": "white",
            "gridwidth": 2,
            "linecolor": "white",
            "showbackground": true,
            "ticks": "",
            "zerolinecolor": "white"
           }
          },
          "shapedefaults": {
           "line": {
            "color": "#2a3f5f"
           }
          },
          "ternary": {
           "aaxis": {
            "gridcolor": "white",
            "linecolor": "white",
            "ticks": ""
           },
           "baxis": {
            "gridcolor": "white",
            "linecolor": "white",
            "ticks": ""
           },
           "bgcolor": "#E5ECF6",
           "caxis": {
            "gridcolor": "white",
            "linecolor": "white",
            "ticks": ""
           }
          },
          "title": {
           "x": 0.05
          },
          "xaxis": {
           "automargin": true,
           "gridcolor": "white",
           "linecolor": "white",
           "ticks": "",
           "title": {
            "standoff": 15
           },
           "zerolinecolor": "white",
           "zerolinewidth": 2
          },
          "yaxis": {
           "automargin": true,
           "gridcolor": "white",
           "linecolor": "white",
           "ticks": "",
           "title": {
            "standoff": 15
           },
           "zerolinecolor": "white",
           "zerolinewidth": 2
          }
         }
        },
        "title": {
         "text": "Evolution Data of The Ising Model"
        },
        "width": 1000,
        "xaxis": {
         "anchor": "y",
         "domain": [
          0,
          0.45
         ],
         "title": {
          "text": "Frames"
         }
        },
        "yaxis": {
         "anchor": "x",
         "domain": [
          0,
          1
         ],
         "title": {
          "text": "Quantity"
         }
        }
       }
      },
      "text/html": [
       "<div>\n",
       "        \n",
       "        \n",
       "            <div id=\"90e47501-3b15-4422-a73c-102f18412cd8\" class=\"plotly-graph-div\" style=\"height:500px; width:1000px;\"></div>\n",
       "            <script type=\"text/javascript\">\n",
       "                require([\"plotly\"], function(Plotly) {\n",
       "                    window.PLOTLYENV=window.PLOTLYENV || {};\n",
       "                    \n",
       "                if (document.getElementById(\"90e47501-3b15-4422-a73c-102f18412cd8\")) {\n",
       "                    Plotly.newPlot(\n",
       "                        '90e47501-3b15-4422-a73c-102f18412cd8',\n",
       "                        [{\"marker\": {\"color\": \"red\"}, \"mode\": \"lines\", \"name\": \"Energy points(J)\", \"type\": \"scatter\", \"xaxis\": \"x\", \"y\": [4740.0, 6876.0, 8496.0, 9680.0, 10308.0, 10224.0, 9744.0, 11100.0, 9876.0, 10104.0, 10304.0, 11220.0, 10792.0, 10544.0, 8976.0, 9668.0, 9972.0, 10228.0, 10104.0, 9980.0, 10380.0, 9572.0, 9732.0, 10456.0, 9648.0, 10588.0, 10716.0, 11372.0, 11504.0, 10860.0, 11004.0, 11536.0, 10620.0, 10996.0, 10880.0, 10892.0, 10376.0, 10296.0, 10584.0, 9988.0, 10968.0, 10996.0, 10452.0, 10548.0, 10276.0, 11040.0, 11052.0, 11220.0, 12084.0, 11020.0], \"yaxis\": \"y\"}, {\"marker\": {\"color\": \"orchid\"}, \"mode\": \"lines\", \"name\": \"Magnetization(T)\", \"type\": \"scatter\", \"xaxis\": \"x\", \"y\": [-406.0, -2142.0, -280.0, 624.0, 444.0, 462.0, 844.0, 848.0, 996.0, 1630.0, 1016.0, 268.0, -202.0, 458.0, -1060.0, -132.0, -392.0, -314.0, -1022.0, -1656.0, -574.0, -1462.0, -1808.0, -1696.0, -1964.0, -1926.0, -1792.0, -2270.0, -1546.0, -530.0, -950.0, 14.0, -52.0, -732.0, 106.0, 524.0, 1440.0, 1378.0, 1212.0, 1758.0, 1018.0, 1304.0, 1474.0, 408.0, 1222.0, 1200.0, 868.0, 586.0, 1258.0, 246.0], \"yaxis\": \"y\"}, {\"cells\": {\"align\": \"left\", \"fill\": {\"color\": \"lightcyan\"}, \"line\": {\"color\": \"darkslategray\"}, \"values\": [[0, 1, 2, 3, 4, 5, 6, 7, 8, 9, 10, 11, 12, 13, 14, 15, 16, 17, 18, 19, 20, 21, 22, 23, 24, 25, 26, 27, 28, 29, 30, 31, 32, 33, 34, 35, 36, 37, 38, 39, 40, 41, 42, 43, 44, 45, 46, 47, 48, 49], [4740.0, 6876.0, 8496.0, 9680.0, 10308.0, 10224.0, 9744.0, 11100.0, 9876.0, 10104.0, 10304.0, 11220.0, 10792.0, 10544.0, 8976.0, 9668.0, 9972.0, 10228.0, 10104.0, 9980.0, 10380.0, 9572.0, 9732.0, 10456.0, 9648.0, 10588.0, 10716.0, 11372.0, 11504.0, 10860.0, 11004.0, 11536.0, 10620.0, 10996.0, 10880.0, 10892.0, 10376.0, 10296.0, 10584.0, 9988.0, 10968.0, 10996.0, 10452.0, 10548.0, 10276.0, 11040.0, 11052.0, 11220.0, 12084.0, 11020.0], [-406.0, -2142.0, -280.0, 624.0, 444.0, 462.0, 844.0, 848.0, 996.0, 1630.0, 1016.0, 268.0, -202.0, 458.0, -1060.0, -132.0, -392.0, -314.0, -1022.0, -1656.0, -574.0, -1462.0, -1808.0, -1696.0, -1964.0, -1926.0, -1792.0, -2270.0, -1546.0, -530.0, -950.0, 14.0, -52.0, -732.0, 106.0, 524.0, 1440.0, 1378.0, 1212.0, 1758.0, 1018.0, 1304.0, 1474.0, 408.0, 1222.0, 1200.0, 868.0, 586.0, 1258.0, 246.0]]}, \"domain\": {\"x\": [0.55, 1.0], \"y\": [0.0, 1.0]}, \"header\": {\"align\": \"left\", \"fill\": {\"color\": \"lightskyblue\"}, \"line\": {\"color\": \"darkslategray\"}, \"values\": [\"Frame #\", \"Energies\", \"Magnetizations\"]}, \"type\": \"table\"}],\n",
       "                        {\"height\": 500, \"showlegend\": true, \"template\": {\"data\": {\"bar\": [{\"error_x\": {\"color\": \"#2a3f5f\"}, \"error_y\": {\"color\": \"#2a3f5f\"}, \"marker\": {\"line\": {\"color\": \"#E5ECF6\", \"width\": 0.5}}, \"type\": \"bar\"}], \"barpolar\": [{\"marker\": {\"line\": {\"color\": \"#E5ECF6\", \"width\": 0.5}}, \"type\": \"barpolar\"}], \"carpet\": [{\"aaxis\": {\"endlinecolor\": \"#2a3f5f\", \"gridcolor\": \"white\", \"linecolor\": \"white\", \"minorgridcolor\": \"white\", \"startlinecolor\": \"#2a3f5f\"}, \"baxis\": {\"endlinecolor\": \"#2a3f5f\", \"gridcolor\": \"white\", \"linecolor\": \"white\", \"minorgridcolor\": \"white\", \"startlinecolor\": \"#2a3f5f\"}, \"type\": \"carpet\"}], \"choropleth\": [{\"colorbar\": {\"outlinewidth\": 0, \"ticks\": \"\"}, \"type\": \"choropleth\"}], \"contour\": [{\"colorbar\": {\"outlinewidth\": 0, \"ticks\": \"\"}, \"colorscale\": [[0.0, \"#0d0887\"], [0.1111111111111111, \"#46039f\"], [0.2222222222222222, \"#7201a8\"], [0.3333333333333333, \"#9c179e\"], [0.4444444444444444, \"#bd3786\"], [0.5555555555555556, \"#d8576b\"], [0.6666666666666666, \"#ed7953\"], [0.7777777777777778, \"#fb9f3a\"], [0.8888888888888888, \"#fdca26\"], [1.0, \"#f0f921\"]], \"type\": \"contour\"}], \"contourcarpet\": [{\"colorbar\": {\"outlinewidth\": 0, \"ticks\": \"\"}, \"type\": \"contourcarpet\"}], \"heatmap\": [{\"colorbar\": {\"outlinewidth\": 0, \"ticks\": \"\"}, \"colorscale\": [[0.0, \"#0d0887\"], [0.1111111111111111, \"#46039f\"], [0.2222222222222222, \"#7201a8\"], [0.3333333333333333, \"#9c179e\"], [0.4444444444444444, \"#bd3786\"], [0.5555555555555556, \"#d8576b\"], [0.6666666666666666, \"#ed7953\"], [0.7777777777777778, \"#fb9f3a\"], [0.8888888888888888, \"#fdca26\"], [1.0, \"#f0f921\"]], \"type\": \"heatmap\"}], \"heatmapgl\": [{\"colorbar\": {\"outlinewidth\": 0, \"ticks\": \"\"}, \"colorscale\": [[0.0, \"#0d0887\"], [0.1111111111111111, \"#46039f\"], [0.2222222222222222, \"#7201a8\"], [0.3333333333333333, \"#9c179e\"], [0.4444444444444444, \"#bd3786\"], [0.5555555555555556, \"#d8576b\"], [0.6666666666666666, \"#ed7953\"], [0.7777777777777778, \"#fb9f3a\"], [0.8888888888888888, \"#fdca26\"], [1.0, \"#f0f921\"]], \"type\": \"heatmapgl\"}], \"histogram\": [{\"marker\": {\"colorbar\": {\"outlinewidth\": 0, \"ticks\": \"\"}}, \"type\": \"histogram\"}], \"histogram2d\": [{\"colorbar\": {\"outlinewidth\": 0, \"ticks\": \"\"}, \"colorscale\": [[0.0, \"#0d0887\"], [0.1111111111111111, \"#46039f\"], [0.2222222222222222, \"#7201a8\"], [0.3333333333333333, \"#9c179e\"], [0.4444444444444444, \"#bd3786\"], [0.5555555555555556, \"#d8576b\"], [0.6666666666666666, \"#ed7953\"], [0.7777777777777778, \"#fb9f3a\"], [0.8888888888888888, \"#fdca26\"], [1.0, \"#f0f921\"]], \"type\": \"histogram2d\"}], \"histogram2dcontour\": [{\"colorbar\": {\"outlinewidth\": 0, \"ticks\": \"\"}, \"colorscale\": [[0.0, \"#0d0887\"], [0.1111111111111111, \"#46039f\"], [0.2222222222222222, \"#7201a8\"], [0.3333333333333333, \"#9c179e\"], [0.4444444444444444, \"#bd3786\"], [0.5555555555555556, \"#d8576b\"], [0.6666666666666666, \"#ed7953\"], [0.7777777777777778, \"#fb9f3a\"], [0.8888888888888888, \"#fdca26\"], [1.0, \"#f0f921\"]], \"type\": \"histogram2dcontour\"}], \"mesh3d\": [{\"colorbar\": {\"outlinewidth\": 0, \"ticks\": \"\"}, \"type\": \"mesh3d\"}], \"parcoords\": [{\"line\": {\"colorbar\": {\"outlinewidth\": 0, \"ticks\": \"\"}}, \"type\": \"parcoords\"}], \"pie\": [{\"automargin\": true, \"type\": \"pie\"}], \"scatter\": [{\"marker\": {\"colorbar\": {\"outlinewidth\": 0, \"ticks\": \"\"}}, \"type\": \"scatter\"}], \"scatter3d\": [{\"line\": {\"colorbar\": {\"outlinewidth\": 0, \"ticks\": \"\"}}, \"marker\": {\"colorbar\": {\"outlinewidth\": 0, \"ticks\": \"\"}}, \"type\": \"scatter3d\"}], \"scattercarpet\": [{\"marker\": {\"colorbar\": {\"outlinewidth\": 0, \"ticks\": \"\"}}, \"type\": \"scattercarpet\"}], \"scattergeo\": [{\"marker\": {\"colorbar\": {\"outlinewidth\": 0, \"ticks\": \"\"}}, \"type\": \"scattergeo\"}], \"scattergl\": [{\"marker\": {\"colorbar\": {\"outlinewidth\": 0, \"ticks\": \"\"}}, \"type\": \"scattergl\"}], \"scattermapbox\": [{\"marker\": {\"colorbar\": {\"outlinewidth\": 0, \"ticks\": \"\"}}, \"type\": \"scattermapbox\"}], \"scatterpolar\": [{\"marker\": {\"colorbar\": {\"outlinewidth\": 0, \"ticks\": \"\"}}, \"type\": \"scatterpolar\"}], \"scatterpolargl\": [{\"marker\": {\"colorbar\": {\"outlinewidth\": 0, \"ticks\": \"\"}}, \"type\": \"scatterpolargl\"}], \"scatterternary\": [{\"marker\": {\"colorbar\": {\"outlinewidth\": 0, \"ticks\": \"\"}}, \"type\": \"scatterternary\"}], \"surface\": [{\"colorbar\": {\"outlinewidth\": 0, \"ticks\": \"\"}, \"colorscale\": [[0.0, \"#0d0887\"], [0.1111111111111111, \"#46039f\"], [0.2222222222222222, \"#7201a8\"], [0.3333333333333333, \"#9c179e\"], [0.4444444444444444, \"#bd3786\"], [0.5555555555555556, \"#d8576b\"], [0.6666666666666666, \"#ed7953\"], [0.7777777777777778, \"#fb9f3a\"], [0.8888888888888888, \"#fdca26\"], [1.0, \"#f0f921\"]], \"type\": \"surface\"}], \"table\": [{\"cells\": {\"fill\": {\"color\": \"#EBF0F8\"}, \"line\": {\"color\": \"white\"}}, \"header\": {\"fill\": {\"color\": \"#C8D4E3\"}, \"line\": {\"color\": \"white\"}}, \"type\": \"table\"}]}, \"layout\": {\"annotationdefaults\": {\"arrowcolor\": \"#2a3f5f\", \"arrowhead\": 0, \"arrowwidth\": 1}, \"coloraxis\": {\"colorbar\": {\"outlinewidth\": 0, \"ticks\": \"\"}}, \"colorscale\": {\"diverging\": [[0, \"#8e0152\"], [0.1, \"#c51b7d\"], [0.2, \"#de77ae\"], [0.3, \"#f1b6da\"], [0.4, \"#fde0ef\"], [0.5, \"#f7f7f7\"], [0.6, \"#e6f5d0\"], [0.7, \"#b8e186\"], [0.8, \"#7fbc41\"], [0.9, \"#4d9221\"], [1, \"#276419\"]], \"sequential\": [[0.0, \"#0d0887\"], [0.1111111111111111, \"#46039f\"], [0.2222222222222222, \"#7201a8\"], [0.3333333333333333, \"#9c179e\"], [0.4444444444444444, \"#bd3786\"], [0.5555555555555556, \"#d8576b\"], [0.6666666666666666, \"#ed7953\"], [0.7777777777777778, \"#fb9f3a\"], [0.8888888888888888, \"#fdca26\"], [1.0, \"#f0f921\"]], \"sequentialminus\": [[0.0, \"#0d0887\"], [0.1111111111111111, \"#46039f\"], [0.2222222222222222, \"#7201a8\"], [0.3333333333333333, \"#9c179e\"], [0.4444444444444444, \"#bd3786\"], [0.5555555555555556, \"#d8576b\"], [0.6666666666666666, \"#ed7953\"], [0.7777777777777778, \"#fb9f3a\"], [0.8888888888888888, \"#fdca26\"], [1.0, \"#f0f921\"]]}, \"colorway\": [\"#636efa\", \"#EF553B\", \"#00cc96\", \"#ab63fa\", \"#FFA15A\", \"#19d3f3\", \"#FF6692\", \"#B6E880\", \"#FF97FF\", \"#FECB52\"], \"font\": {\"color\": \"#2a3f5f\"}, \"geo\": {\"bgcolor\": \"white\", \"lakecolor\": \"white\", \"landcolor\": \"#E5ECF6\", \"showlakes\": true, \"showland\": true, \"subunitcolor\": \"white\"}, \"hoverlabel\": {\"align\": \"left\"}, \"hovermode\": \"closest\", \"mapbox\": {\"style\": \"light\"}, \"paper_bgcolor\": \"white\", \"plot_bgcolor\": \"#E5ECF6\", \"polar\": {\"angularaxis\": {\"gridcolor\": \"white\", \"linecolor\": \"white\", \"ticks\": \"\"}, \"bgcolor\": \"#E5ECF6\", \"radialaxis\": {\"gridcolor\": \"white\", \"linecolor\": \"white\", \"ticks\": \"\"}}, \"scene\": {\"xaxis\": {\"backgroundcolor\": \"#E5ECF6\", \"gridcolor\": \"white\", \"gridwidth\": 2, \"linecolor\": \"white\", \"showbackground\": true, \"ticks\": \"\", \"zerolinecolor\": \"white\"}, \"yaxis\": {\"backgroundcolor\": \"#E5ECF6\", \"gridcolor\": \"white\", \"gridwidth\": 2, \"linecolor\": \"white\", \"showbackground\": true, \"ticks\": \"\", \"zerolinecolor\": \"white\"}, \"zaxis\": {\"backgroundcolor\": \"#E5ECF6\", \"gridcolor\": \"white\", \"gridwidth\": 2, \"linecolor\": \"white\", \"showbackground\": true, \"ticks\": \"\", \"zerolinecolor\": \"white\"}}, \"shapedefaults\": {\"line\": {\"color\": \"#2a3f5f\"}}, \"ternary\": {\"aaxis\": {\"gridcolor\": \"white\", \"linecolor\": \"white\", \"ticks\": \"\"}, \"baxis\": {\"gridcolor\": \"white\", \"linecolor\": \"white\", \"ticks\": \"\"}, \"bgcolor\": \"#E5ECF6\", \"caxis\": {\"gridcolor\": \"white\", \"linecolor\": \"white\", \"ticks\": \"\"}}, \"title\": {\"x\": 0.05}, \"xaxis\": {\"automargin\": true, \"gridcolor\": \"white\", \"linecolor\": \"white\", \"ticks\": \"\", \"title\": {\"standoff\": 15}, \"zerolinecolor\": \"white\", \"zerolinewidth\": 2}, \"yaxis\": {\"automargin\": true, \"gridcolor\": \"white\", \"linecolor\": \"white\", \"ticks\": \"\", \"title\": {\"standoff\": 15}, \"zerolinecolor\": \"white\", \"zerolinewidth\": 2}}}, \"title\": {\"text\": \"Evolution Data of The Ising Model\"}, \"width\": 1000, \"xaxis\": {\"anchor\": \"y\", \"domain\": [0.0, 0.45], \"title\": {\"text\": \"Frames\"}}, \"yaxis\": {\"anchor\": \"x\", \"domain\": [0.0, 1.0], \"title\": {\"text\": \"Quantity\"}}},\n",
       "                        {\"responsive\": true}\n",
       "                    ).then(function(){\n",
       "                            \n",
       "var gd = document.getElementById('90e47501-3b15-4422-a73c-102f18412cd8');\n",
       "var x = new MutationObserver(function (mutations, observer) {{\n",
       "        var display = window.getComputedStyle(gd).display;\n",
       "        if (!display || display === 'none') {{\n",
       "            console.log([gd, 'removed!']);\n",
       "            Plotly.purge(gd);\n",
       "            observer.disconnect();\n",
       "        }}\n",
       "}});\n",
       "\n",
       "// Listen for the removal of the full notebook cells\n",
       "var notebookContainer = gd.closest('#notebook-container');\n",
       "if (notebookContainer) {{\n",
       "    x.observe(notebookContainer, {childList: true});\n",
       "}}\n",
       "\n",
       "// Listen for the clearing of the current output cell\n",
       "var outputEl = gd.closest('.output');\n",
       "if (outputEl) {{\n",
       "    x.observe(outputEl, {childList: true});\n",
       "}}\n",
       "\n",
       "                        })\n",
       "                };\n",
       "                });\n",
       "            </script>\n",
       "        </div>"
      ]
     },
     "metadata": {},
     "output_type": "display_data"
    }
   ],
   "source": [
    "\n",
    "FrameList=np.arange(0,len(Energy),1)\n",
    "\n",
    "from plotly.subplots import make_subplots\n",
    "import plotly.graph_objects as go\n",
    "\n",
    "fig = make_subplots(\n",
    "    rows=1, cols=2,\n",
    "    specs=[[{\"type\": \"bar\"}, {\"type\": \"pie\"}],#I Don't know the correct type, these just happend to work. Others don't\n",
    "           ],\n",
    ")\n",
    "\n",
    "#Each fig.add_trace is a new graph\n",
    "#Making traces on the same row and col allow them to be plotted together. \n",
    "\n",
    "\n",
    "#traces for Energy and Magnetization\n",
    "fig.add_trace(go.Scatter(y=(Energy), name='Energy points(J)', mode='lines', marker_color='red'),row=1,col=1)\n",
    "fig.add_trace(go.Scatter(y=(Mag), name='Magnetization(T)', mode='lines', marker_color='orchid'),row=1,col=1)\n",
    "fig.update_layout(title='Evolution Data of The Ising Model',\n",
    "                   xaxis_title='Frames',\n",
    "                   yaxis_title='Quantity')\n",
    "\n",
    "#Trace for the table\n",
    "fig.add_trace(go.Table(\n",
    "    header=dict(values=['Frame #','Energies', 'Magnetizations'],\n",
    "                line_color='darkslategray',\n",
    "                fill_color='lightskyblue',\n",
    "                align='left'),\n",
    "    cells=dict(values=[FrameList,Energy, Mag], # 2nd column\n",
    "               line_color='darkslategray',\n",
    "               fill_color='lightcyan',\n",
    "               align='left')),row=1,col=2)            \n",
    "\n",
    "fig.update_layout(width=1000, height=500, showlegend=True)\n",
    "\n",
    "fig.show()\n"
   ]
  },
  {
   "cell_type": "code",
   "execution_count": null,
   "metadata": {},
   "outputs": [],
   "source": []
  },
  {
   "cell_type": "code",
   "execution_count": null,
   "metadata": {},
   "outputs": [],
   "source": []
  },
  {
   "cell_type": "code",
   "execution_count": null,
   "metadata": {},
   "outputs": [],
   "source": []
  },
  {
   "cell_type": "code",
   "execution_count": null,
   "metadata": {},
   "outputs": [],
   "source": []
  }
 ],
 "metadata": {
  "kernelspec": {
   "display_name": "Python 3",
   "language": "python",
   "name": "python3"
  },
  "language_info": {
   "codemirror_mode": {
    "name": "ipython",
    "version": 3
   },
   "file_extension": ".py",
   "mimetype": "text/x-python",
   "name": "python",
   "nbconvert_exporter": "python",
   "pygments_lexer": "ipython3",
   "version": "3.7.3"
  }
 },
 "nbformat": 4,
 "nbformat_minor": 2
}
