{
 "cells": [
  {
   "cell_type": "code",
   "execution_count": 19,
   "metadata": {},
   "outputs": [],
   "source": [
    "#Creating,visualizing and plotting data about an Ising model after learning about how it works."
   ]
  },
  {
   "cell_type": "code",
   "execution_count": 20,
   "metadata": {},
   "outputs": [],
   "source": [
    "#pip install Pillow\n",
    "#pip install ipywidgets"
   ]
  },
  {
   "cell_type": "code",
   "execution_count": 2,
   "metadata": {},
   "outputs": [],
   "source": [
    "#Imports\n",
    "\n",
    "import numpy as np\n",
    "from math import exp, log, e, sqrt\n",
    "from ipywidgets import interact\n",
    "from PIL import Image\n",
    "import matplotlib.pyplot as plt\n",
    "from plotly.subplots import make_subplots\n",
    "import plotly.graph_objects as go\n",
    "from ipywidgets import interact\n"
   ]
  },
  {
   "cell_type": "code",
   "execution_count": 3,
   "metadata": {},
   "outputs": [
    {
     "name": "stdout",
     "output_type": "stream",
     "text": [
      "What is the length of one side of your grid?100\n",
      "What is the Coupling constant? 1 is most common. 1\n",
      "What is your Temperature from 0~6? For critical temperature type 22  22\n",
      "Critical temperature is given as 2 / log(1 + sqrt(2), e), or 2.269185314213022 and will be used for this system. \n"
     ]
    }
   ],
   "source": [
    "\n",
    "N=int(input('What is the length of one side of your grid?')) #Eg 50 makes a 50x50 grid\n",
    "M=N #Grid is even. playing with an uneven grid might be fun.\n",
    "\n",
    "J=int(input('What is the Coupling constant? 1 is most common. '))\n",
    "\n",
    "kT= float(input('What is your Temperature from 0~6? For critical temperature type 22  '))\n",
    "\n",
    "if kT==22:\n",
    "    \n",
    "    kT = 2 / log(1 + sqrt(2), e)#critical temp from Lars Onsangers solution\n",
    "    \n",
    "    print('Critical temperature is given as 2 / log(1 + sqrt(2), e), or', kT, 'and will be used for this system. ')\n",
    "\n",
    "\n",
    "Mag=[]#Places to store magnetization  values\n",
    "Energy=[] #Places to store energy values\n"
   ]
  },
  {
   "cell_type": "code",
   "execution_count": 4,
   "metadata": {},
   "outputs": [],
   "source": [
    "# ================= create the random spin grid========================\n",
    "\n",
    "# Each spin has two possible states +1 or −1.\n",
    "\n",
    "\n",
    "def Initial_Lattice(N,M):\n",
    "    Spinvalues=[-1,1]\n",
    "    return np.random.choice(Spinvalues, size=(N, M))\n",
    "\n",
    "\n",
    "\n",
    "\n",
    "#Here we save it so we can do some calculations from the starting point.\n",
    "\n",
    "Grid=Initial_Lattice(N,M)"
   ]
  },
  {
   "cell_type": "code",
   "execution_count": 5,
   "metadata": {},
   "outputs": [
    {
     "data": {
      "text/plain": [
       "-108.0"
      ]
     },
     "execution_count": 5,
     "metadata": {},
     "output_type": "execute_result"
    }
   ],
   "source": [
    "#=========Calculates Magnetization of the grid, which works out to be the summation of every point.======\n",
    "#If I were to rewrite this code having m= np.sum might lead to quicker times.\n",
    "\n",
    "\n",
    "\n",
    "def magnetization(Lattice):\n",
    "    m = 0.0  \n",
    "    for j in range(0,N):\n",
    "        for k in range(0,M):  \n",
    "            m += Lattice[j,k]\n",
    "  \n",
    "    return m"
   ]
  },
  {
   "cell_type": "code",
   "execution_count": 6,
   "metadata": {},
   "outputs": [
    {
     "data": {
      "text/plain": [
       "-136.0"
      ]
     },
     "execution_count": 6,
     "metadata": {},
     "output_type": "execute_result"
    }
   ],
   "source": [
    "#========================================= Calculating energy based on formula=================\n",
    "def Energy_Of_The_System(Lattice):\n",
    "    E=0.0\n",
    " \n",
    "    \n",
    "    for i in range(0,N):\n",
    "        for j in range(0,M):\n",
    "            \n",
    "            Spin= Lattice[i, j] #choosen spin\n",
    "    \n",
    "    \n",
    "            SumOfNeighbors= (Lattice[(i+1)%N, (j)]#Right\n",
    "                     + Lattice[(i-1)%N, (j)]#left\n",
    "                     + Lattice[(i) , (j+1)%M]#Up\n",
    "                     + Lattice[(i) , (j-1)%M])#Down\n",
    "                     \n",
    "    \n",
    "            E+=J*Spin*SumOfNeighbors\n",
    "        \n",
    "    return E\n",
    "#Energy_Of_The_System(Grid)"
   ]
  },
  {
   "cell_type": "code",
   "execution_count": 7,
   "metadata": {},
   "outputs": [],
   "source": [
    "#===================Using Energy calculation to find DeltaE and determine spin flips=====================\n",
    "\n",
    "\n",
    "\n",
    "def EnergyCalc(Lattice, i, j):\n",
    "    \n",
    "    \n",
    "    N, M = Lattice.shape #Giving my Lattice a size\n",
    "    \n",
    "    \n",
    "    Spin= Lattice[i, j] #choosen spin\n",
    "    \n",
    "    \n",
    "    SumOfNeighbors= (Lattice[(i+1)%N, (j)]#Right\n",
    "                     + Lattice[(i-1)%N, (j)]#left\n",
    "                     + Lattice[(i) , (j+1)%M]#Up\n",
    "                     + Lattice[(i) , (j-1)%M])#Down\n",
    "                     \n",
    "    \n",
    "    \n",
    "    \n",
    "    dE = (2*J)*(Spin*SumOfNeighbors) #Formula for dE\n",
    "                   \n",
    "                   \n",
    "    if dE <= 0 or exp(-dE / kT) > np.random.random(): #If dE <=0 or boltzmann factor greater than random swtich\n",
    "        Lattice[i, j] *= -1"
   ]
  },
  {
   "cell_type": "code",
   "execution_count": 8,
   "metadata": {},
   "outputs": [],
   "source": [
    "#=================================== Movement through the lattice ==============\n",
    "#This is the simplest case, but experimenting with other iterations over the grid can lead to changed results.\n",
    "\n",
    "#I've found going randomly across the lattice caused the grid to continue to be random. \n",
    "#there might be a proper way to do this, but I've not found it.\n",
    "\n",
    "#The coordinates of this movement type for a 3x3 Lattice is commented in the cell below if interested. \n",
    "\n",
    "\n",
    "def Movement(Lattice):\n",
    "    N, M = Lattice.shape\n",
    "\n",
    "    for i in range(N):\n",
    "        for j in range(M): \n",
    "            EnergyCalc(Lattice, i, j)\n",
    "            \n",
    "#=========== Calls and saves values for measurements while the grid is being updated============            \n",
    "            \n",
    "    Mag.append(magnetization(Lattice))\n",
    "    Energy.append(Energy_Of_The_System(Lattice))\n",
    "    return Lattice"
   ]
  },
  {
   "cell_type": "code",
   "execution_count": 13,
   "metadata": {},
   "outputs": [],
   "source": [
    "#X_Coordinates=[0, 1, 2, 0, 1, 2, 0, 1, 2]\n",
    "#Y_Coordinates=[0, 0, 0, 1, 1, 1, 2, 2, 2]"
   ]
  },
  {
   "cell_type": "code",
   "execution_count": 17,
   "metadata": {},
   "outputs": [],
   "source": [
    "# the other way to do this without ipywidgets was just to call 'for i in range(frames)'"
   ]
  },
  {
   "cell_type": "code",
   "execution_count": 18,
   "metadata": {},
   "outputs": [],
   "source": [
    "#In the following part-\n",
    "#Used Jake Vanderplas' visualization tutorial https://jakevdp.github.io/blog/2017/12/11/live-coding-cython-ising-model/\n",
    "\n",
    "\n",
    "#----------------------Visualize the Grid-------------------------------\n",
    "def Visualize(Lattice):\n",
    "    return Image.fromarray(np.uint8((Lattice + 1) * 0.5 * 255))  # 0 ... 255 Must be an 8 bit unsigned integer\n",
    "\n"
   ]
  },
  {
   "cell_type": "code",
   "execution_count": 15,
   "metadata": {},
   "outputs": [
    {
     "data": {
      "application/vnd.jupyter.widget-view+json": {
       "model_id": "222821e93af0498e9a8c8e17d0093ed8",
       "version_major": 2,
       "version_minor": 0
      },
      "text/plain": [
       "interactive(children=(IntSlider(value=25, description='frame', max=50), Output()), _dom_classes=('widget-inter…"
      ]
     },
     "metadata": {},
     "output_type": "display_data"
    }
   ],
   "source": [
    "N_Frames=50\n",
    "\n",
    "def Evolution(images):\n",
    "    \n",
    "    \n",
    "    def show(frame=(0, len(images)-1)):\n",
    "        \n",
    "        \n",
    "        return Visualize(images[frame])\n",
    "    \n",
    "    \n",
    "    return interact(show)\n",
    "\n",
    "\n",
    "\n",
    "\n",
    "\n",
    "images = [Grid]\n",
    "\n",
    "\n",
    "for i in range(N_Frames):\n",
    "    \n",
    "    images.append(Movement(images[-1].copy()))\n",
    "    \n",
    "Evolution(images);"
   ]
  },
  {
   "cell_type": "code",
   "execution_count": 16,
   "metadata": {},
   "outputs": [
    {
     "data": {
      "application/vnd.plotly.v1+json": {
       "config": {
        "plotlyServerURL": "https://plot.ly"
       },
       "data": [
        {
         "marker": {
          "color": "red"
         },
         "mode": "lines",
         "name": "Energy points(J)",
         "type": "scatter",
         "xaxis": "x",
         "y": [
          10408,
          16048,
          19224,
          21136,
          22640,
          23192,
          24008,
          24400,
          24232,
          25264,
          25560,
          25296,
          25944,
          26112,
          25800,
          25456,
          25936,
          25712,
          25944,
          26032,
          25968,
          26616,
          26936,
          27296,
          27280,
          26544,
          25912,
          26176,
          26424,
          26288,
          26504,
          25944,
          26632,
          26456,
          26872,
          26360,
          26624,
          26720,
          26296,
          26544,
          26312,
          26480,
          27240,
          27184,
          26984,
          26552,
          27328,
          27112,
          27728,
          27280,
          11104,
          16744,
          19592,
          21704,
          22992,
          24160,
          24744,
          24848,
          25112,
          25264,
          25784,
          25312,
          25656,
          26144,
          26152,
          26168,
          26272,
          25856,
          25952,
          26088,
          26200,
          25928,
          25784,
          26400,
          27264,
          26824,
          26744,
          26256,
          26416,
          26576,
          26744,
          26880,
          26000,
          26048,
          26576,
          26632,
          27024,
          26840,
          26328,
          26720,
          26920,
          27200,
          27544,
          26696,
          27352,
          27360,
          27328,
          27608,
          26808,
          26816
         ],
         "yaxis": "y"
        },
        {
         "marker": {
          "color": "orchid"
         },
         "mode": "lines",
         "name": "Magnetization(T)",
         "type": "scatter",
         "xaxis": "x",
         "y": [
          -216,
          -10,
          -90,
          -514,
          -344,
          -366,
          -474,
          -626,
          -856,
          -812,
          -964,
          -912,
          -1256,
          -1272,
          -1264,
          -1510,
          -1680,
          -1880,
          -1854,
          -2050,
          -1926,
          -1906,
          -1934,
          -2098,
          -1844,
          -1696,
          -1590,
          -1824,
          -1804,
          -1950,
          -1976,
          -2124,
          -2408,
          -2558,
          -2770,
          -2342,
          -2140,
          -2226,
          -2022,
          -1808,
          -1858,
          -1932,
          -1970,
          -1812,
          -2072,
          -2138,
          -2478,
          -2654,
          -2830,
          -2846,
          -170,
          -216,
          -148,
          -94,
          -276,
          -320,
          -386,
          -62,
          78,
          -96,
          -108,
          -158,
          -80,
          2,
          -72,
          146,
          -30,
          -10,
          62,
          296,
          420,
          598,
          838,
          944,
          966,
          848,
          1048,
          1230,
          1416,
          1054,
          1122,
          930,
          962,
          1408,
          1550,
          1722,
          1674,
          1520,
          1738,
          1834,
          1786,
          1878,
          1990,
          2342,
          2446,
          2552,
          2698,
          2798,
          2816,
          2978
         ],
         "yaxis": "y"
        },
        {
         "cells": {
          "align": "left",
          "fill": {
           "color": "lightcyan"
          },
          "line": {
           "color": "darkslategray"
          },
          "values": [
           [
            0,
            1,
            2,
            3,
            4,
            5,
            6,
            7,
            8,
            9,
            10,
            11,
            12,
            13,
            14,
            15,
            16,
            17,
            18,
            19,
            20,
            21,
            22,
            23,
            24,
            25,
            26,
            27,
            28,
            29,
            30,
            31,
            32,
            33,
            34,
            35,
            36,
            37,
            38,
            39,
            40,
            41,
            42,
            43,
            44,
            45,
            46,
            47,
            48,
            49,
            50,
            51,
            52,
            53,
            54,
            55,
            56,
            57,
            58,
            59,
            60,
            61,
            62,
            63,
            64,
            65,
            66,
            67,
            68,
            69,
            70,
            71,
            72,
            73,
            74,
            75,
            76,
            77,
            78,
            79,
            80,
            81,
            82,
            83,
            84,
            85,
            86,
            87,
            88,
            89,
            90,
            91,
            92,
            93,
            94,
            95,
            96,
            97,
            98,
            99
           ],
           [
            10408,
            16048,
            19224,
            21136,
            22640,
            23192,
            24008,
            24400,
            24232,
            25264,
            25560,
            25296,
            25944,
            26112,
            25800,
            25456,
            25936,
            25712,
            25944,
            26032,
            25968,
            26616,
            26936,
            27296,
            27280,
            26544,
            25912,
            26176,
            26424,
            26288,
            26504,
            25944,
            26632,
            26456,
            26872,
            26360,
            26624,
            26720,
            26296,
            26544,
            26312,
            26480,
            27240,
            27184,
            26984,
            26552,
            27328,
            27112,
            27728,
            27280,
            11104,
            16744,
            19592,
            21704,
            22992,
            24160,
            24744,
            24848,
            25112,
            25264,
            25784,
            25312,
            25656,
            26144,
            26152,
            26168,
            26272,
            25856,
            25952,
            26088,
            26200,
            25928,
            25784,
            26400,
            27264,
            26824,
            26744,
            26256,
            26416,
            26576,
            26744,
            26880,
            26000,
            26048,
            26576,
            26632,
            27024,
            26840,
            26328,
            26720,
            26920,
            27200,
            27544,
            26696,
            27352,
            27360,
            27328,
            27608,
            26808,
            26816
           ],
           [
            -216,
            -10,
            -90,
            -514,
            -344,
            -366,
            -474,
            -626,
            -856,
            -812,
            -964,
            -912,
            -1256,
            -1272,
            -1264,
            -1510,
            -1680,
            -1880,
            -1854,
            -2050,
            -1926,
            -1906,
            -1934,
            -2098,
            -1844,
            -1696,
            -1590,
            -1824,
            -1804,
            -1950,
            -1976,
            -2124,
            -2408,
            -2558,
            -2770,
            -2342,
            -2140,
            -2226,
            -2022,
            -1808,
            -1858,
            -1932,
            -1970,
            -1812,
            -2072,
            -2138,
            -2478,
            -2654,
            -2830,
            -2846,
            -170,
            -216,
            -148,
            -94,
            -276,
            -320,
            -386,
            -62,
            78,
            -96,
            -108,
            -158,
            -80,
            2,
            -72,
            146,
            -30,
            -10,
            62,
            296,
            420,
            598,
            838,
            944,
            966,
            848,
            1048,
            1230,
            1416,
            1054,
            1122,
            930,
            962,
            1408,
            1550,
            1722,
            1674,
            1520,
            1738,
            1834,
            1786,
            1878,
            1990,
            2342,
            2446,
            2552,
            2698,
            2798,
            2816,
            2978
           ]
          ]
         },
         "domain": {
          "x": [
           0.55,
           1
          ],
          "y": [
           0,
           1
          ]
         },
         "header": {
          "align": "left",
          "fill": {
           "color": "lightskyblue"
          },
          "line": {
           "color": "darkslategray"
          },
          "values": [
           "Frame #",
           "Energies",
           "Magnetizations"
          ]
         },
         "type": "table"
        }
       ],
       "layout": {
        "height": 500,
        "showlegend": true,
        "template": {
         "data": {
          "bar": [
           {
            "error_x": {
             "color": "#2a3f5f"
            },
            "error_y": {
             "color": "#2a3f5f"
            },
            "marker": {
             "line": {
              "color": "#E5ECF6",
              "width": 0.5
             }
            },
            "type": "bar"
           }
          ],
          "barpolar": [
           {
            "marker": {
             "line": {
              "color": "#E5ECF6",
              "width": 0.5
             }
            },
            "type": "barpolar"
           }
          ],
          "carpet": [
           {
            "aaxis": {
             "endlinecolor": "#2a3f5f",
             "gridcolor": "white",
             "linecolor": "white",
             "minorgridcolor": "white",
             "startlinecolor": "#2a3f5f"
            },
            "baxis": {
             "endlinecolor": "#2a3f5f",
             "gridcolor": "white",
             "linecolor": "white",
             "minorgridcolor": "white",
             "startlinecolor": "#2a3f5f"
            },
            "type": "carpet"
           }
          ],
          "choropleth": [
           {
            "colorbar": {
             "outlinewidth": 0,
             "ticks": ""
            },
            "type": "choropleth"
           }
          ],
          "contour": [
           {
            "colorbar": {
             "outlinewidth": 0,
             "ticks": ""
            },
            "colorscale": [
             [
              0,
              "#0d0887"
             ],
             [
              0.1111111111111111,
              "#46039f"
             ],
             [
              0.2222222222222222,
              "#7201a8"
             ],
             [
              0.3333333333333333,
              "#9c179e"
             ],
             [
              0.4444444444444444,
              "#bd3786"
             ],
             [
              0.5555555555555556,
              "#d8576b"
             ],
             [
              0.6666666666666666,
              "#ed7953"
             ],
             [
              0.7777777777777778,
              "#fb9f3a"
             ],
             [
              0.8888888888888888,
              "#fdca26"
             ],
             [
              1,
              "#f0f921"
             ]
            ],
            "type": "contour"
           }
          ],
          "contourcarpet": [
           {
            "colorbar": {
             "outlinewidth": 0,
             "ticks": ""
            },
            "type": "contourcarpet"
           }
          ],
          "heatmap": [
           {
            "colorbar": {
             "outlinewidth": 0,
             "ticks": ""
            },
            "colorscale": [
             [
              0,
              "#0d0887"
             ],
             [
              0.1111111111111111,
              "#46039f"
             ],
             [
              0.2222222222222222,
              "#7201a8"
             ],
             [
              0.3333333333333333,
              "#9c179e"
             ],
             [
              0.4444444444444444,
              "#bd3786"
             ],
             [
              0.5555555555555556,
              "#d8576b"
             ],
             [
              0.6666666666666666,
              "#ed7953"
             ],
             [
              0.7777777777777778,
              "#fb9f3a"
             ],
             [
              0.8888888888888888,
              "#fdca26"
             ],
             [
              1,
              "#f0f921"
             ]
            ],
            "type": "heatmap"
           }
          ],
          "heatmapgl": [
           {
            "colorbar": {
             "outlinewidth": 0,
             "ticks": ""
            },
            "colorscale": [
             [
              0,
              "#0d0887"
             ],
             [
              0.1111111111111111,
              "#46039f"
             ],
             [
              0.2222222222222222,
              "#7201a8"
             ],
             [
              0.3333333333333333,
              "#9c179e"
             ],
             [
              0.4444444444444444,
              "#bd3786"
             ],
             [
              0.5555555555555556,
              "#d8576b"
             ],
             [
              0.6666666666666666,
              "#ed7953"
             ],
             [
              0.7777777777777778,
              "#fb9f3a"
             ],
             [
              0.8888888888888888,
              "#fdca26"
             ],
             [
              1,
              "#f0f921"
             ]
            ],
            "type": "heatmapgl"
           }
          ],
          "histogram": [
           {
            "marker": {
             "colorbar": {
              "outlinewidth": 0,
              "ticks": ""
             }
            },
            "type": "histogram"
           }
          ],
          "histogram2d": [
           {
            "colorbar": {
             "outlinewidth": 0,
             "ticks": ""
            },
            "colorscale": [
             [
              0,
              "#0d0887"
             ],
             [
              0.1111111111111111,
              "#46039f"
             ],
             [
              0.2222222222222222,
              "#7201a8"
             ],
             [
              0.3333333333333333,
              "#9c179e"
             ],
             [
              0.4444444444444444,
              "#bd3786"
             ],
             [
              0.5555555555555556,
              "#d8576b"
             ],
             [
              0.6666666666666666,
              "#ed7953"
             ],
             [
              0.7777777777777778,
              "#fb9f3a"
             ],
             [
              0.8888888888888888,
              "#fdca26"
             ],
             [
              1,
              "#f0f921"
             ]
            ],
            "type": "histogram2d"
           }
          ],
          "histogram2dcontour": [
           {
            "colorbar": {
             "outlinewidth": 0,
             "ticks": ""
            },
            "colorscale": [
             [
              0,
              "#0d0887"
             ],
             [
              0.1111111111111111,
              "#46039f"
             ],
             [
              0.2222222222222222,
              "#7201a8"
             ],
             [
              0.3333333333333333,
              "#9c179e"
             ],
             [
              0.4444444444444444,
              "#bd3786"
             ],
             [
              0.5555555555555556,
              "#d8576b"
             ],
             [
              0.6666666666666666,
              "#ed7953"
             ],
             [
              0.7777777777777778,
              "#fb9f3a"
             ],
             [
              0.8888888888888888,
              "#fdca26"
             ],
             [
              1,
              "#f0f921"
             ]
            ],
            "type": "histogram2dcontour"
           }
          ],
          "mesh3d": [
           {
            "colorbar": {
             "outlinewidth": 0,
             "ticks": ""
            },
            "type": "mesh3d"
           }
          ],
          "parcoords": [
           {
            "line": {
             "colorbar": {
              "outlinewidth": 0,
              "ticks": ""
             }
            },
            "type": "parcoords"
           }
          ],
          "pie": [
           {
            "automargin": true,
            "type": "pie"
           }
          ],
          "scatter": [
           {
            "marker": {
             "colorbar": {
              "outlinewidth": 0,
              "ticks": ""
             }
            },
            "type": "scatter"
           }
          ],
          "scatter3d": [
           {
            "line": {
             "colorbar": {
              "outlinewidth": 0,
              "ticks": ""
             }
            },
            "marker": {
             "colorbar": {
              "outlinewidth": 0,
              "ticks": ""
             }
            },
            "type": "scatter3d"
           }
          ],
          "scattercarpet": [
           {
            "marker": {
             "colorbar": {
              "outlinewidth": 0,
              "ticks": ""
             }
            },
            "type": "scattercarpet"
           }
          ],
          "scattergeo": [
           {
            "marker": {
             "colorbar": {
              "outlinewidth": 0,
              "ticks": ""
             }
            },
            "type": "scattergeo"
           }
          ],
          "scattergl": [
           {
            "marker": {
             "colorbar": {
              "outlinewidth": 0,
              "ticks": ""
             }
            },
            "type": "scattergl"
           }
          ],
          "scattermapbox": [
           {
            "marker": {
             "colorbar": {
              "outlinewidth": 0,
              "ticks": ""
             }
            },
            "type": "scattermapbox"
           }
          ],
          "scatterpolar": [
           {
            "marker": {
             "colorbar": {
              "outlinewidth": 0,
              "ticks": ""
             }
            },
            "type": "scatterpolar"
           }
          ],
          "scatterpolargl": [
           {
            "marker": {
             "colorbar": {
              "outlinewidth": 0,
              "ticks": ""
             }
            },
            "type": "scatterpolargl"
           }
          ],
          "scatterternary": [
           {
            "marker": {
             "colorbar": {
              "outlinewidth": 0,
              "ticks": ""
             }
            },
            "type": "scatterternary"
           }
          ],
          "surface": [
           {
            "colorbar": {
             "outlinewidth": 0,
             "ticks": ""
            },
            "colorscale": [
             [
              0,
              "#0d0887"
             ],
             [
              0.1111111111111111,
              "#46039f"
             ],
             [
              0.2222222222222222,
              "#7201a8"
             ],
             [
              0.3333333333333333,
              "#9c179e"
             ],
             [
              0.4444444444444444,
              "#bd3786"
             ],
             [
              0.5555555555555556,
              "#d8576b"
             ],
             [
              0.6666666666666666,
              "#ed7953"
             ],
             [
              0.7777777777777778,
              "#fb9f3a"
             ],
             [
              0.8888888888888888,
              "#fdca26"
             ],
             [
              1,
              "#f0f921"
             ]
            ],
            "type": "surface"
           }
          ],
          "table": [
           {
            "cells": {
             "fill": {
              "color": "#EBF0F8"
             },
             "line": {
              "color": "white"
             }
            },
            "header": {
             "fill": {
              "color": "#C8D4E3"
             },
             "line": {
              "color": "white"
             }
            },
            "type": "table"
           }
          ]
         },
         "layout": {
          "annotationdefaults": {
           "arrowcolor": "#2a3f5f",
           "arrowhead": 0,
           "arrowwidth": 1
          },
          "coloraxis": {
           "colorbar": {
            "outlinewidth": 0,
            "ticks": ""
           }
          },
          "colorscale": {
           "diverging": [
            [
             0,
             "#8e0152"
            ],
            [
             0.1,
             "#c51b7d"
            ],
            [
             0.2,
             "#de77ae"
            ],
            [
             0.3,
             "#f1b6da"
            ],
            [
             0.4,
             "#fde0ef"
            ],
            [
             0.5,
             "#f7f7f7"
            ],
            [
             0.6,
             "#e6f5d0"
            ],
            [
             0.7,
             "#b8e186"
            ],
            [
             0.8,
             "#7fbc41"
            ],
            [
             0.9,
             "#4d9221"
            ],
            [
             1,
             "#276419"
            ]
           ],
           "sequential": [
            [
             0,
             "#0d0887"
            ],
            [
             0.1111111111111111,
             "#46039f"
            ],
            [
             0.2222222222222222,
             "#7201a8"
            ],
            [
             0.3333333333333333,
             "#9c179e"
            ],
            [
             0.4444444444444444,
             "#bd3786"
            ],
            [
             0.5555555555555556,
             "#d8576b"
            ],
            [
             0.6666666666666666,
             "#ed7953"
            ],
            [
             0.7777777777777778,
             "#fb9f3a"
            ],
            [
             0.8888888888888888,
             "#fdca26"
            ],
            [
             1,
             "#f0f921"
            ]
           ],
           "sequentialminus": [
            [
             0,
             "#0d0887"
            ],
            [
             0.1111111111111111,
             "#46039f"
            ],
            [
             0.2222222222222222,
             "#7201a8"
            ],
            [
             0.3333333333333333,
             "#9c179e"
            ],
            [
             0.4444444444444444,
             "#bd3786"
            ],
            [
             0.5555555555555556,
             "#d8576b"
            ],
            [
             0.6666666666666666,
             "#ed7953"
            ],
            [
             0.7777777777777778,
             "#fb9f3a"
            ],
            [
             0.8888888888888888,
             "#fdca26"
            ],
            [
             1,
             "#f0f921"
            ]
           ]
          },
          "colorway": [
           "#636efa",
           "#EF553B",
           "#00cc96",
           "#ab63fa",
           "#FFA15A",
           "#19d3f3",
           "#FF6692",
           "#B6E880",
           "#FF97FF",
           "#FECB52"
          ],
          "font": {
           "color": "#2a3f5f"
          },
          "geo": {
           "bgcolor": "white",
           "lakecolor": "white",
           "landcolor": "#E5ECF6",
           "showlakes": true,
           "showland": true,
           "subunitcolor": "white"
          },
          "hoverlabel": {
           "align": "left"
          },
          "hovermode": "closest",
          "mapbox": {
           "style": "light"
          },
          "paper_bgcolor": "white",
          "plot_bgcolor": "#E5ECF6",
          "polar": {
           "angularaxis": {
            "gridcolor": "white",
            "linecolor": "white",
            "ticks": ""
           },
           "bgcolor": "#E5ECF6",
           "radialaxis": {
            "gridcolor": "white",
            "linecolor": "white",
            "ticks": ""
           }
          },
          "scene": {
           "xaxis": {
            "backgroundcolor": "#E5ECF6",
            "gridcolor": "white",
            "gridwidth": 2,
            "linecolor": "white",
            "showbackground": true,
            "ticks": "",
            "zerolinecolor": "white"
           },
           "yaxis": {
            "backgroundcolor": "#E5ECF6",
            "gridcolor": "white",
            "gridwidth": 2,
            "linecolor": "white",
            "showbackground": true,
            "ticks": "",
            "zerolinecolor": "white"
           },
           "zaxis": {
            "backgroundcolor": "#E5ECF6",
            "gridcolor": "white",
            "gridwidth": 2,
            "linecolor": "white",
            "showbackground": true,
            "ticks": "",
            "zerolinecolor": "white"
           }
          },
          "shapedefaults": {
           "line": {
            "color": "#2a3f5f"
           }
          },
          "ternary": {
           "aaxis": {
            "gridcolor": "white",
            "linecolor": "white",
            "ticks": ""
           },
           "baxis": {
            "gridcolor": "white",
            "linecolor": "white",
            "ticks": ""
           },
           "bgcolor": "#E5ECF6",
           "caxis": {
            "gridcolor": "white",
            "linecolor": "white",
            "ticks": ""
           }
          },
          "title": {
           "x": 0.05
          },
          "xaxis": {
           "automargin": true,
           "gridcolor": "white",
           "linecolor": "white",
           "ticks": "",
           "title": {
            "standoff": 15
           },
           "zerolinecolor": "white",
           "zerolinewidth": 2
          },
          "yaxis": {
           "automargin": true,
           "gridcolor": "white",
           "linecolor": "white",
           "ticks": "",
           "title": {
            "standoff": 15
           },
           "zerolinecolor": "white",
           "zerolinewidth": 2
          }
         }
        },
        "title": {
         "text": "Evolution Data of The Ising Model"
        },
        "width": 1000,
        "xaxis": {
         "anchor": "y",
         "domain": [
          0,
          0.45
         ],
         "title": {
          "text": "Frames"
         }
        },
        "yaxis": {
         "anchor": "x",
         "domain": [
          0,
          1
         ],
         "title": {
          "text": "Quantity"
         }
        }
       }
      },
      "text/html": [
       "<div>\n",
       "        \n",
       "        \n",
       "            <div id=\"dfaea3a7-19d3-43ee-b328-dc145f1b6659\" class=\"plotly-graph-div\" style=\"height:500px; width:1000px;\"></div>\n",
       "            <script type=\"text/javascript\">\n",
       "                require([\"plotly\"], function(Plotly) {\n",
       "                    window.PLOTLYENV=window.PLOTLYENV || {};\n",
       "                    \n",
       "                if (document.getElementById(\"dfaea3a7-19d3-43ee-b328-dc145f1b6659\")) {\n",
       "                    Plotly.newPlot(\n",
       "                        'dfaea3a7-19d3-43ee-b328-dc145f1b6659',\n",
       "                        [{\"marker\": {\"color\": \"red\"}, \"mode\": \"lines\", \"name\": \"Energy points(J)\", \"type\": \"scatter\", \"xaxis\": \"x\", \"y\": [10408.0, 16048.0, 19224.0, 21136.0, 22640.0, 23192.0, 24008.0, 24400.0, 24232.0, 25264.0, 25560.0, 25296.0, 25944.0, 26112.0, 25800.0, 25456.0, 25936.0, 25712.0, 25944.0, 26032.0, 25968.0, 26616.0, 26936.0, 27296.0, 27280.0, 26544.0, 25912.0, 26176.0, 26424.0, 26288.0, 26504.0, 25944.0, 26632.0, 26456.0, 26872.0, 26360.0, 26624.0, 26720.0, 26296.0, 26544.0, 26312.0, 26480.0, 27240.0, 27184.0, 26984.0, 26552.0, 27328.0, 27112.0, 27728.0, 27280.0, 11104.0, 16744.0, 19592.0, 21704.0, 22992.0, 24160.0, 24744.0, 24848.0, 25112.0, 25264.0, 25784.0, 25312.0, 25656.0, 26144.0, 26152.0, 26168.0, 26272.0, 25856.0, 25952.0, 26088.0, 26200.0, 25928.0, 25784.0, 26400.0, 27264.0, 26824.0, 26744.0, 26256.0, 26416.0, 26576.0, 26744.0, 26880.0, 26000.0, 26048.0, 26576.0, 26632.0, 27024.0, 26840.0, 26328.0, 26720.0, 26920.0, 27200.0, 27544.0, 26696.0, 27352.0, 27360.0, 27328.0, 27608.0, 26808.0, 26816.0], \"yaxis\": \"y\"}, {\"marker\": {\"color\": \"orchid\"}, \"mode\": \"lines\", \"name\": \"Magnetization(T)\", \"type\": \"scatter\", \"xaxis\": \"x\", \"y\": [-216.0, -10.0, -90.0, -514.0, -344.0, -366.0, -474.0, -626.0, -856.0, -812.0, -964.0, -912.0, -1256.0, -1272.0, -1264.0, -1510.0, -1680.0, -1880.0, -1854.0, -2050.0, -1926.0, -1906.0, -1934.0, -2098.0, -1844.0, -1696.0, -1590.0, -1824.0, -1804.0, -1950.0, -1976.0, -2124.0, -2408.0, -2558.0, -2770.0, -2342.0, -2140.0, -2226.0, -2022.0, -1808.0, -1858.0, -1932.0, -1970.0, -1812.0, -2072.0, -2138.0, -2478.0, -2654.0, -2830.0, -2846.0, -170.0, -216.0, -148.0, -94.0, -276.0, -320.0, -386.0, -62.0, 78.0, -96.0, -108.0, -158.0, -80.0, 2.0, -72.0, 146.0, -30.0, -10.0, 62.0, 296.0, 420.0, 598.0, 838.0, 944.0, 966.0, 848.0, 1048.0, 1230.0, 1416.0, 1054.0, 1122.0, 930.0, 962.0, 1408.0, 1550.0, 1722.0, 1674.0, 1520.0, 1738.0, 1834.0, 1786.0, 1878.0, 1990.0, 2342.0, 2446.0, 2552.0, 2698.0, 2798.0, 2816.0, 2978.0], \"yaxis\": \"y\"}, {\"cells\": {\"align\": \"left\", \"fill\": {\"color\": \"lightcyan\"}, \"line\": {\"color\": \"darkslategray\"}, \"values\": [[0, 1, 2, 3, 4, 5, 6, 7, 8, 9, 10, 11, 12, 13, 14, 15, 16, 17, 18, 19, 20, 21, 22, 23, 24, 25, 26, 27, 28, 29, 30, 31, 32, 33, 34, 35, 36, 37, 38, 39, 40, 41, 42, 43, 44, 45, 46, 47, 48, 49, 50, 51, 52, 53, 54, 55, 56, 57, 58, 59, 60, 61, 62, 63, 64, 65, 66, 67, 68, 69, 70, 71, 72, 73, 74, 75, 76, 77, 78, 79, 80, 81, 82, 83, 84, 85, 86, 87, 88, 89, 90, 91, 92, 93, 94, 95, 96, 97, 98, 99], [10408.0, 16048.0, 19224.0, 21136.0, 22640.0, 23192.0, 24008.0, 24400.0, 24232.0, 25264.0, 25560.0, 25296.0, 25944.0, 26112.0, 25800.0, 25456.0, 25936.0, 25712.0, 25944.0, 26032.0, 25968.0, 26616.0, 26936.0, 27296.0, 27280.0, 26544.0, 25912.0, 26176.0, 26424.0, 26288.0, 26504.0, 25944.0, 26632.0, 26456.0, 26872.0, 26360.0, 26624.0, 26720.0, 26296.0, 26544.0, 26312.0, 26480.0, 27240.0, 27184.0, 26984.0, 26552.0, 27328.0, 27112.0, 27728.0, 27280.0, 11104.0, 16744.0, 19592.0, 21704.0, 22992.0, 24160.0, 24744.0, 24848.0, 25112.0, 25264.0, 25784.0, 25312.0, 25656.0, 26144.0, 26152.0, 26168.0, 26272.0, 25856.0, 25952.0, 26088.0, 26200.0, 25928.0, 25784.0, 26400.0, 27264.0, 26824.0, 26744.0, 26256.0, 26416.0, 26576.0, 26744.0, 26880.0, 26000.0, 26048.0, 26576.0, 26632.0, 27024.0, 26840.0, 26328.0, 26720.0, 26920.0, 27200.0, 27544.0, 26696.0, 27352.0, 27360.0, 27328.0, 27608.0, 26808.0, 26816.0], [-216.0, -10.0, -90.0, -514.0, -344.0, -366.0, -474.0, -626.0, -856.0, -812.0, -964.0, -912.0, -1256.0, -1272.0, -1264.0, -1510.0, -1680.0, -1880.0, -1854.0, -2050.0, -1926.0, -1906.0, -1934.0, -2098.0, -1844.0, -1696.0, -1590.0, -1824.0, -1804.0, -1950.0, -1976.0, -2124.0, -2408.0, -2558.0, -2770.0, -2342.0, -2140.0, -2226.0, -2022.0, -1808.0, -1858.0, -1932.0, -1970.0, -1812.0, -2072.0, -2138.0, -2478.0, -2654.0, -2830.0, -2846.0, -170.0, -216.0, -148.0, -94.0, -276.0, -320.0, -386.0, -62.0, 78.0, -96.0, -108.0, -158.0, -80.0, 2.0, -72.0, 146.0, -30.0, -10.0, 62.0, 296.0, 420.0, 598.0, 838.0, 944.0, 966.0, 848.0, 1048.0, 1230.0, 1416.0, 1054.0, 1122.0, 930.0, 962.0, 1408.0, 1550.0, 1722.0, 1674.0, 1520.0, 1738.0, 1834.0, 1786.0, 1878.0, 1990.0, 2342.0, 2446.0, 2552.0, 2698.0, 2798.0, 2816.0, 2978.0]]}, \"domain\": {\"x\": [0.55, 1.0], \"y\": [0.0, 1.0]}, \"header\": {\"align\": \"left\", \"fill\": {\"color\": \"lightskyblue\"}, \"line\": {\"color\": \"darkslategray\"}, \"values\": [\"Frame #\", \"Energies\", \"Magnetizations\"]}, \"type\": \"table\"}],\n",
       "                        {\"height\": 500, \"showlegend\": true, \"template\": {\"data\": {\"bar\": [{\"error_x\": {\"color\": \"#2a3f5f\"}, \"error_y\": {\"color\": \"#2a3f5f\"}, \"marker\": {\"line\": {\"color\": \"#E5ECF6\", \"width\": 0.5}}, \"type\": \"bar\"}], \"barpolar\": [{\"marker\": {\"line\": {\"color\": \"#E5ECF6\", \"width\": 0.5}}, \"type\": \"barpolar\"}], \"carpet\": [{\"aaxis\": {\"endlinecolor\": \"#2a3f5f\", \"gridcolor\": \"white\", \"linecolor\": \"white\", \"minorgridcolor\": \"white\", \"startlinecolor\": \"#2a3f5f\"}, \"baxis\": {\"endlinecolor\": \"#2a3f5f\", \"gridcolor\": \"white\", \"linecolor\": \"white\", \"minorgridcolor\": \"white\", \"startlinecolor\": \"#2a3f5f\"}, \"type\": \"carpet\"}], \"choropleth\": [{\"colorbar\": {\"outlinewidth\": 0, \"ticks\": \"\"}, \"type\": \"choropleth\"}], \"contour\": [{\"colorbar\": {\"outlinewidth\": 0, \"ticks\": \"\"}, \"colorscale\": [[0.0, \"#0d0887\"], [0.1111111111111111, \"#46039f\"], [0.2222222222222222, \"#7201a8\"], [0.3333333333333333, \"#9c179e\"], [0.4444444444444444, \"#bd3786\"], [0.5555555555555556, \"#d8576b\"], [0.6666666666666666, \"#ed7953\"], [0.7777777777777778, \"#fb9f3a\"], [0.8888888888888888, \"#fdca26\"], [1.0, \"#f0f921\"]], \"type\": \"contour\"}], \"contourcarpet\": [{\"colorbar\": {\"outlinewidth\": 0, \"ticks\": \"\"}, \"type\": \"contourcarpet\"}], \"heatmap\": [{\"colorbar\": {\"outlinewidth\": 0, \"ticks\": \"\"}, \"colorscale\": [[0.0, \"#0d0887\"], [0.1111111111111111, \"#46039f\"], [0.2222222222222222, \"#7201a8\"], [0.3333333333333333, \"#9c179e\"], [0.4444444444444444, \"#bd3786\"], [0.5555555555555556, \"#d8576b\"], [0.6666666666666666, \"#ed7953\"], [0.7777777777777778, \"#fb9f3a\"], [0.8888888888888888, \"#fdca26\"], [1.0, \"#f0f921\"]], \"type\": \"heatmap\"}], \"heatmapgl\": [{\"colorbar\": {\"outlinewidth\": 0, \"ticks\": \"\"}, \"colorscale\": [[0.0, \"#0d0887\"], [0.1111111111111111, \"#46039f\"], [0.2222222222222222, \"#7201a8\"], [0.3333333333333333, \"#9c179e\"], [0.4444444444444444, \"#bd3786\"], [0.5555555555555556, \"#d8576b\"], [0.6666666666666666, \"#ed7953\"], [0.7777777777777778, \"#fb9f3a\"], [0.8888888888888888, \"#fdca26\"], [1.0, \"#f0f921\"]], \"type\": \"heatmapgl\"}], \"histogram\": [{\"marker\": {\"colorbar\": {\"outlinewidth\": 0, \"ticks\": \"\"}}, \"type\": \"histogram\"}], \"histogram2d\": [{\"colorbar\": {\"outlinewidth\": 0, \"ticks\": \"\"}, \"colorscale\": [[0.0, \"#0d0887\"], [0.1111111111111111, \"#46039f\"], [0.2222222222222222, \"#7201a8\"], [0.3333333333333333, \"#9c179e\"], [0.4444444444444444, \"#bd3786\"], [0.5555555555555556, \"#d8576b\"], [0.6666666666666666, \"#ed7953\"], [0.7777777777777778, \"#fb9f3a\"], [0.8888888888888888, \"#fdca26\"], [1.0, \"#f0f921\"]], \"type\": \"histogram2d\"}], \"histogram2dcontour\": [{\"colorbar\": {\"outlinewidth\": 0, \"ticks\": \"\"}, \"colorscale\": [[0.0, \"#0d0887\"], [0.1111111111111111, \"#46039f\"], [0.2222222222222222, \"#7201a8\"], [0.3333333333333333, \"#9c179e\"], [0.4444444444444444, \"#bd3786\"], [0.5555555555555556, \"#d8576b\"], [0.6666666666666666, \"#ed7953\"], [0.7777777777777778, \"#fb9f3a\"], [0.8888888888888888, \"#fdca26\"], [1.0, \"#f0f921\"]], \"type\": \"histogram2dcontour\"}], \"mesh3d\": [{\"colorbar\": {\"outlinewidth\": 0, \"ticks\": \"\"}, \"type\": \"mesh3d\"}], \"parcoords\": [{\"line\": {\"colorbar\": {\"outlinewidth\": 0, \"ticks\": \"\"}}, \"type\": \"parcoords\"}], \"pie\": [{\"automargin\": true, \"type\": \"pie\"}], \"scatter\": [{\"marker\": {\"colorbar\": {\"outlinewidth\": 0, \"ticks\": \"\"}}, \"type\": \"scatter\"}], \"scatter3d\": [{\"line\": {\"colorbar\": {\"outlinewidth\": 0, \"ticks\": \"\"}}, \"marker\": {\"colorbar\": {\"outlinewidth\": 0, \"ticks\": \"\"}}, \"type\": \"scatter3d\"}], \"scattercarpet\": [{\"marker\": {\"colorbar\": {\"outlinewidth\": 0, \"ticks\": \"\"}}, \"type\": \"scattercarpet\"}], \"scattergeo\": [{\"marker\": {\"colorbar\": {\"outlinewidth\": 0, \"ticks\": \"\"}}, \"type\": \"scattergeo\"}], \"scattergl\": [{\"marker\": {\"colorbar\": {\"outlinewidth\": 0, \"ticks\": \"\"}}, \"type\": \"scattergl\"}], \"scattermapbox\": [{\"marker\": {\"colorbar\": {\"outlinewidth\": 0, \"ticks\": \"\"}}, \"type\": \"scattermapbox\"}], \"scatterpolar\": [{\"marker\": {\"colorbar\": {\"outlinewidth\": 0, \"ticks\": \"\"}}, \"type\": \"scatterpolar\"}], \"scatterpolargl\": [{\"marker\": {\"colorbar\": {\"outlinewidth\": 0, \"ticks\": \"\"}}, \"type\": \"scatterpolargl\"}], \"scatterternary\": [{\"marker\": {\"colorbar\": {\"outlinewidth\": 0, \"ticks\": \"\"}}, \"type\": \"scatterternary\"}], \"surface\": [{\"colorbar\": {\"outlinewidth\": 0, \"ticks\": \"\"}, \"colorscale\": [[0.0, \"#0d0887\"], [0.1111111111111111, \"#46039f\"], [0.2222222222222222, \"#7201a8\"], [0.3333333333333333, \"#9c179e\"], [0.4444444444444444, \"#bd3786\"], [0.5555555555555556, \"#d8576b\"], [0.6666666666666666, \"#ed7953\"], [0.7777777777777778, \"#fb9f3a\"], [0.8888888888888888, \"#fdca26\"], [1.0, \"#f0f921\"]], \"type\": \"surface\"}], \"table\": [{\"cells\": {\"fill\": {\"color\": \"#EBF0F8\"}, \"line\": {\"color\": \"white\"}}, \"header\": {\"fill\": {\"color\": \"#C8D4E3\"}, \"line\": {\"color\": \"white\"}}, \"type\": \"table\"}]}, \"layout\": {\"annotationdefaults\": {\"arrowcolor\": \"#2a3f5f\", \"arrowhead\": 0, \"arrowwidth\": 1}, \"coloraxis\": {\"colorbar\": {\"outlinewidth\": 0, \"ticks\": \"\"}}, \"colorscale\": {\"diverging\": [[0, \"#8e0152\"], [0.1, \"#c51b7d\"], [0.2, \"#de77ae\"], [0.3, \"#f1b6da\"], [0.4, \"#fde0ef\"], [0.5, \"#f7f7f7\"], [0.6, \"#e6f5d0\"], [0.7, \"#b8e186\"], [0.8, \"#7fbc41\"], [0.9, \"#4d9221\"], [1, \"#276419\"]], \"sequential\": [[0.0, \"#0d0887\"], [0.1111111111111111, \"#46039f\"], [0.2222222222222222, \"#7201a8\"], [0.3333333333333333, \"#9c179e\"], [0.4444444444444444, \"#bd3786\"], [0.5555555555555556, \"#d8576b\"], [0.6666666666666666, \"#ed7953\"], [0.7777777777777778, \"#fb9f3a\"], [0.8888888888888888, \"#fdca26\"], [1.0, \"#f0f921\"]], \"sequentialminus\": [[0.0, \"#0d0887\"], [0.1111111111111111, \"#46039f\"], [0.2222222222222222, \"#7201a8\"], [0.3333333333333333, \"#9c179e\"], [0.4444444444444444, \"#bd3786\"], [0.5555555555555556, \"#d8576b\"], [0.6666666666666666, \"#ed7953\"], [0.7777777777777778, \"#fb9f3a\"], [0.8888888888888888, \"#fdca26\"], [1.0, \"#f0f921\"]]}, \"colorway\": [\"#636efa\", \"#EF553B\", \"#00cc96\", \"#ab63fa\", \"#FFA15A\", \"#19d3f3\", \"#FF6692\", \"#B6E880\", \"#FF97FF\", \"#FECB52\"], \"font\": {\"color\": \"#2a3f5f\"}, \"geo\": {\"bgcolor\": \"white\", \"lakecolor\": \"white\", \"landcolor\": \"#E5ECF6\", \"showlakes\": true, \"showland\": true, \"subunitcolor\": \"white\"}, \"hoverlabel\": {\"align\": \"left\"}, \"hovermode\": \"closest\", \"mapbox\": {\"style\": \"light\"}, \"paper_bgcolor\": \"white\", \"plot_bgcolor\": \"#E5ECF6\", \"polar\": {\"angularaxis\": {\"gridcolor\": \"white\", \"linecolor\": \"white\", \"ticks\": \"\"}, \"bgcolor\": \"#E5ECF6\", \"radialaxis\": {\"gridcolor\": \"white\", \"linecolor\": \"white\", \"ticks\": \"\"}}, \"scene\": {\"xaxis\": {\"backgroundcolor\": \"#E5ECF6\", \"gridcolor\": \"white\", \"gridwidth\": 2, \"linecolor\": \"white\", \"showbackground\": true, \"ticks\": \"\", \"zerolinecolor\": \"white\"}, \"yaxis\": {\"backgroundcolor\": \"#E5ECF6\", \"gridcolor\": \"white\", \"gridwidth\": 2, \"linecolor\": \"white\", \"showbackground\": true, \"ticks\": \"\", \"zerolinecolor\": \"white\"}, \"zaxis\": {\"backgroundcolor\": \"#E5ECF6\", \"gridcolor\": \"white\", \"gridwidth\": 2, \"linecolor\": \"white\", \"showbackground\": true, \"ticks\": \"\", \"zerolinecolor\": \"white\"}}, \"shapedefaults\": {\"line\": {\"color\": \"#2a3f5f\"}}, \"ternary\": {\"aaxis\": {\"gridcolor\": \"white\", \"linecolor\": \"white\", \"ticks\": \"\"}, \"baxis\": {\"gridcolor\": \"white\", \"linecolor\": \"white\", \"ticks\": \"\"}, \"bgcolor\": \"#E5ECF6\", \"caxis\": {\"gridcolor\": \"white\", \"linecolor\": \"white\", \"ticks\": \"\"}}, \"title\": {\"x\": 0.05}, \"xaxis\": {\"automargin\": true, \"gridcolor\": \"white\", \"linecolor\": \"white\", \"ticks\": \"\", \"title\": {\"standoff\": 15}, \"zerolinecolor\": \"white\", \"zerolinewidth\": 2}, \"yaxis\": {\"automargin\": true, \"gridcolor\": \"white\", \"linecolor\": \"white\", \"ticks\": \"\", \"title\": {\"standoff\": 15}, \"zerolinecolor\": \"white\", \"zerolinewidth\": 2}}}, \"title\": {\"text\": \"Evolution Data of The Ising Model\"}, \"width\": 1000, \"xaxis\": {\"anchor\": \"y\", \"domain\": [0.0, 0.45], \"title\": {\"text\": \"Frames\"}}, \"yaxis\": {\"anchor\": \"x\", \"domain\": [0.0, 1.0], \"title\": {\"text\": \"Quantity\"}}},\n",
       "                        {\"responsive\": true}\n",
       "                    ).then(function(){\n",
       "                            \n",
       "var gd = document.getElementById('dfaea3a7-19d3-43ee-b328-dc145f1b6659');\n",
       "var x = new MutationObserver(function (mutations, observer) {{\n",
       "        var display = window.getComputedStyle(gd).display;\n",
       "        if (!display || display === 'none') {{\n",
       "            console.log([gd, 'removed!']);\n",
       "            Plotly.purge(gd);\n",
       "            observer.disconnect();\n",
       "        }}\n",
       "}});\n",
       "\n",
       "// Listen for the removal of the full notebook cells\n",
       "var notebookContainer = gd.closest('#notebook-container');\n",
       "if (notebookContainer) {{\n",
       "    x.observe(notebookContainer, {childList: true});\n",
       "}}\n",
       "\n",
       "// Listen for the clearing of the current output cell\n",
       "var outputEl = gd.closest('.output');\n",
       "if (outputEl) {{\n",
       "    x.observe(outputEl, {childList: true});\n",
       "}}\n",
       "\n",
       "                        })\n",
       "                };\n",
       "                });\n",
       "            </script>\n",
       "        </div>"
      ]
     },
     "metadata": {},
     "output_type": "display_data"
    }
   ],
   "source": [
    "FrameList=np.arange(0,len(Energy),1)\n",
    "\n",
    "fig = make_subplots(\n",
    "    rows=1, cols=2,\n",
    "    specs=[[{\"type\": \"bar\"}, {\"type\": \"pie\"}],#I didn't change these. These specs just happend to work. Others don't\n",
    "           ],\n",
    ")\n",
    "\n",
    "#Each fig.add_trace is a new graph\n",
    "#Making traces on the same row and col allow them to be plotted together. \n",
    "\n",
    "\n",
    "#traces for Energy and Magnetization\n",
    "fig.add_trace(go.Scatter(y=(Energy), name='Energy points(J)', mode='lines', marker_color='red'),row=1,col=1)\n",
    "fig.add_trace(go.Scatter(y=(Mag), name='Magnetization(T)', mode='lines', marker_color='orchid'),row=1,col=1)\n",
    "fig.update_layout(title='Evolution Data of The Ising Model',\n",
    "                   xaxis_title='Frames',\n",
    "                   yaxis_title='Quantity')\n",
    "\n",
    "#Trace for the table\n",
    "fig.add_trace(go.Table(\n",
    "    header=dict(values=['Frame #','Energies', 'Magnetizations'],\n",
    "                line_color='darkslategray',\n",
    "                fill_color='lightskyblue',\n",
    "                align='left'),\n",
    "    cells=dict(values=[FrameList,Energy, Mag], # 2nd column\n",
    "               line_color='darkslategray',\n",
    "               fill_color='lightcyan',\n",
    "               align='left')),row=1,col=2)            \n",
    "\n",
    "fig.update_layout(width=1000, height=500, showlegend=True)\n",
    "\n",
    "fig.show()\n"
   ]
  },
  {
   "cell_type": "code",
   "execution_count": null,
   "metadata": {},
   "outputs": [],
   "source": []
  },
  {
   "cell_type": "code",
   "execution_count": null,
   "metadata": {},
   "outputs": [],
   "source": []
  },
  {
   "cell_type": "code",
   "execution_count": null,
   "metadata": {},
   "outputs": [],
   "source": []
  },
  {
   "cell_type": "code",
   "execution_count": null,
   "metadata": {},
   "outputs": [],
   "source": []
  }
 ],
 "metadata": {
  "kernelspec": {
   "display_name": "Python 3",
   "language": "python",
   "name": "python3"
  },
  "language_info": {
   "codemirror_mode": {
    "name": "ipython",
    "version": 3
   },
   "file_extension": ".py",
   "mimetype": "text/x-python",
   "name": "python",
   "nbconvert_exporter": "python",
   "pygments_lexer": "ipython3",
   "version": "3.7.3"
  }
 },
 "nbformat": 4,
 "nbformat_minor": 2
}
